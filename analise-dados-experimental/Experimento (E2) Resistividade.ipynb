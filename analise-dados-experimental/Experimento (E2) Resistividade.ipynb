{
 "cells": [
  {
   "cell_type": "markdown",
   "id": "confirmed-interpretation",
   "metadata": {},
   "source": [
    "# Resistividade x Resistência"
   ]
  },
  {
   "cell_type": "markdown",
   "id": "seven-score",
   "metadata": {},
   "source": [
    "$R = \\frac{\\rho A}{L}$\n",
    "\n",
    "$R = \\alpha L$\n",
    "\n",
    "- Onde $\\alpha = \\rho/A$"
   ]
  },
  {
   "cell_type": "code",
   "execution_count": 2,
   "id": "explicit-channels",
   "metadata": {},
   "outputs": [],
   "source": [
    "import numpy as np\n",
    "import matplotlib.pyplot as plt\n",
    "import pandas as pd\n",
    "from scipy import stats\n",
    "from scipy.stats import linregress\n",
    "from scipy.optimize import curve_fit\n",
    "from uncertainties import ufloat\n",
    "%matplotlib inline"
   ]
  },
  {
   "cell_type": "code",
   "execution_count": 3,
   "id": "extensive-shuttle",
   "metadata": {},
   "outputs": [],
   "source": [
    "df = pd.read_csv('dados.csv')"
   ]
  },
  {
   "cell_type": "code",
   "execution_count": 4,
   "id": "collaborative-lightweight",
   "metadata": {
    "scrolled": true
   },
   "outputs": [
    {
     "data": {
      "text/html": [
       "<div>\n",
       "<style scoped>\n",
       "    .dataframe tbody tr th:only-of-type {\n",
       "        vertical-align: middle;\n",
       "    }\n",
       "\n",
       "    .dataframe tbody tr th {\n",
       "        vertical-align: top;\n",
       "    }\n",
       "\n",
       "    .dataframe thead th {\n",
       "        text-align: right;\n",
       "    }\n",
       "</style>\n",
       "<table border=\"1\" class=\"dataframe\">\n",
       "  <thead>\n",
       "    <tr style=\"text-align: right;\">\n",
       "      <th></th>\n",
       "      <th>R(ohm)</th>\n",
       "      <th>X(m)</th>\n",
       "    </tr>\n",
       "  </thead>\n",
       "  <tbody>\n",
       "    <tr>\n",
       "      <th>0</th>\n",
       "      <td>0.89</td>\n",
       "      <td>0.11</td>\n",
       "    </tr>\n",
       "    <tr>\n",
       "      <th>1</th>\n",
       "      <td>1.01</td>\n",
       "      <td>0.16</td>\n",
       "    </tr>\n",
       "    <tr>\n",
       "      <th>2</th>\n",
       "      <td>1.10</td>\n",
       "      <td>0.21</td>\n",
       "    </tr>\n",
       "    <tr>\n",
       "      <th>3</th>\n",
       "      <td>1.19</td>\n",
       "      <td>0.26</td>\n",
       "    </tr>\n",
       "    <tr>\n",
       "      <th>4</th>\n",
       "      <td>1.31</td>\n",
       "      <td>0.31</td>\n",
       "    </tr>\n",
       "  </tbody>\n",
       "</table>\n",
       "</div>"
      ],
      "text/plain": [
       "   R(ohm)  X(m)\n",
       "0    0.89  0.11\n",
       "1    1.01  0.16\n",
       "2    1.10  0.21\n",
       "3    1.19  0.26\n",
       "4    1.31  0.31"
      ]
     },
     "execution_count": 4,
     "metadata": {},
     "output_type": "execute_result"
    }
   ],
   "source": [
    "df.head()"
   ]
  },
  {
   "cell_type": "code",
   "execution_count": 5,
   "id": "destroyed-architecture",
   "metadata": {},
   "outputs": [],
   "source": [
    "df[r'$\\Delta R$'] = ((df['R(ohm)'] * 0.02) +0.05).round(5)\n",
    "df[r'$\\Delta X$'] = 0.0005"
   ]
  },
  {
   "cell_type": "code",
   "execution_count": 6,
   "id": "moral-diving",
   "metadata": {},
   "outputs": [
    {
     "data": {
      "text/html": [
       "<div>\n",
       "<style scoped>\n",
       "    .dataframe tbody tr th:only-of-type {\n",
       "        vertical-align: middle;\n",
       "    }\n",
       "\n",
       "    .dataframe tbody tr th {\n",
       "        vertical-align: top;\n",
       "    }\n",
       "\n",
       "    .dataframe thead th {\n",
       "        text-align: right;\n",
       "    }\n",
       "</style>\n",
       "<table border=\"1\" class=\"dataframe\">\n",
       "  <thead>\n",
       "    <tr style=\"text-align: right;\">\n",
       "      <th></th>\n",
       "      <th>R(ohm)</th>\n",
       "      <th>X(m)</th>\n",
       "      <th>$\\Delta R$</th>\n",
       "      <th>$\\Delta X$</th>\n",
       "    </tr>\n",
       "  </thead>\n",
       "  <tbody>\n",
       "    <tr>\n",
       "      <th>0</th>\n",
       "      <td>0.89</td>\n",
       "      <td>0.11</td>\n",
       "      <td>0.0678</td>\n",
       "      <td>0.0005</td>\n",
       "    </tr>\n",
       "    <tr>\n",
       "      <th>1</th>\n",
       "      <td>1.01</td>\n",
       "      <td>0.16</td>\n",
       "      <td>0.0702</td>\n",
       "      <td>0.0005</td>\n",
       "    </tr>\n",
       "    <tr>\n",
       "      <th>2</th>\n",
       "      <td>1.10</td>\n",
       "      <td>0.21</td>\n",
       "      <td>0.0720</td>\n",
       "      <td>0.0005</td>\n",
       "    </tr>\n",
       "    <tr>\n",
       "      <th>3</th>\n",
       "      <td>1.19</td>\n",
       "      <td>0.26</td>\n",
       "      <td>0.0738</td>\n",
       "      <td>0.0005</td>\n",
       "    </tr>\n",
       "    <tr>\n",
       "      <th>4</th>\n",
       "      <td>1.31</td>\n",
       "      <td>0.31</td>\n",
       "      <td>0.0762</td>\n",
       "      <td>0.0005</td>\n",
       "    </tr>\n",
       "  </tbody>\n",
       "</table>\n",
       "</div>"
      ],
      "text/plain": [
       "   R(ohm)  X(m)  $\\Delta R$  $\\Delta X$\n",
       "0    0.89  0.11      0.0678      0.0005\n",
       "1    1.01  0.16      0.0702      0.0005\n",
       "2    1.10  0.21      0.0720      0.0005\n",
       "3    1.19  0.26      0.0738      0.0005\n",
       "4    1.31  0.31      0.0762      0.0005"
      ]
     },
     "execution_count": 6,
     "metadata": {},
     "output_type": "execute_result"
    }
   ],
   "source": [
    "df.head()"
   ]
  },
  {
   "cell_type": "code",
   "execution_count": 7,
   "id": "viral-centre",
   "metadata": {},
   "outputs": [],
   "source": [
    "# Transformando para centímetros\n",
    "df['X(m)'] = df['X(m)'] * 100"
   ]
  },
  {
   "cell_type": "code",
   "execution_count": 8,
   "id": "exceptional-nudist",
   "metadata": {},
   "outputs": [
    {
     "data": {
      "text/plain": [
       "0.08485"
      ]
     },
     "execution_count": 8,
     "metadata": {},
     "output_type": "execute_result"
    }
   ],
   "source": [
    "# Estimando a incerteza do coeficiente angular pela media\n",
    "df['$\\\\Delta R$'].mean().round(5)"
   ]
  },
  {
   "cell_type": "code",
   "execution_count": 9,
   "id": "light-certificate",
   "metadata": {},
   "outputs": [
    {
     "name": "stdout",
     "output_type": "stream",
     "text": [
      "0.08788\n"
     ]
    }
   ],
   "source": [
    "# Estimando a incerteza pela media ponderada\n",
    "media_pond = 0\n",
    "for i in range(len(df['R(ohm)'])):\n",
    "    media_pond = media_pond + df['R(ohm)'][i] * df['$\\\\Delta R$'][i]\n",
    "media_pond = media_pond/((df['R(ohm)']).sum())\n",
    "print(media_pond.round(5))"
   ]
  },
  {
   "cell_type": "code",
   "execution_count": 10,
   "id": "hazardous-legislation",
   "metadata": {},
   "outputs": [
    {
     "data": {
      "text/plain": [
       "Text(0.5, 0, 'Comprimento (m)')"
      ]
     },
     "execution_count": 10,
     "metadata": {},
     "output_type": "execute_result"
    },
    {
     "data": {
      "image/png": "[encoded data removed]",
      "text/plain": [
       "<Figure size 432x288 with 1 Axes>"
      ]
     },
     "metadata": {
      "needs_background": "light"
     },
     "output_type": "display_data"
    }
   ],
   "source": [
    "# Plotando os pontos com as incertezas\n",
    "plt.scatter(df['X(m)'], df['R(ohm)'])\n",
    "plt.errorbar(df['X(m)'], df['R(ohm)'], yerr=df['$\\\\Delta R$'],fmt='none')\n",
    "plt.ylabel(r'Resistividade($\\Omega$)', fontsize=14)\n",
    "plt.xlabel('Comprimento (m)', fontsize=14)"
   ]
  },
  {
   "cell_type": "markdown",
   "id": "burning-fisher",
   "metadata": {},
   "source": [
    "- O sistema pode ser descrito através de uma reta da forma:\n",
    "    $R = \\alpha x + B$"
   ]
  },
  {
   "cell_type": "code",
   "execution_count": 11,
   "id": "adjustable-veteran",
   "metadata": {},
   "outputs": [
    {
     "data": {
      "text/plain": [
       "Text(0.5, 0, 'Comprimento (cm)')"
      ]
     },
     "execution_count": 11,
     "metadata": {},
     "output_type": "execute_result"
    },
    {
     "data": {
      "image/png": "[encoded data removed]",
      "text/plain": [
       "<Figure size 432x288 with 1 Axes>"
      ]
     },
     "metadata": {
      "needs_background": "light"
     },
     "output_type": "display_data"
    }
   ],
   "source": [
    "# Definindo a reta\n",
    "def func(x,alpha,b):\n",
    "    return alpha * x + b   \n",
    "\n",
    "# Estimando valores para a reta\n",
    "y_chute = func(df['X(m)'], 0.021, b=0.5)\n",
    "plt.plot(df['X(m)'], y_chute)\n",
    "plt.scatter(df['X(m)'], df['R(ohm)'])\n",
    "plt.ylabel(r'Resistividade($\\Omega$)', fontsize=14)\n",
    "plt.xlabel('Comprimento (cm)', fontsize=14)"
   ]
  },
  {
   "cell_type": "markdown",
   "id": "representative-strength",
   "metadata": {},
   "source": [
    "### Fazendo o fit da curva:"
   ]
  },
  {
   "cell_type": "code",
   "execution_count": 16,
   "id": "loving-match",
   "metadata": {},
   "outputs": [
    {
     "data": {
      "text/plain": [
       "Text(0.5, 0, 'Comprimento (cm)')"
      ]
     },
     "execution_count": 16,
     "metadata": {},
     "output_type": "execute_result"
    },
    {
     "data": {
      "image/png": "[encoded data removed]",
      "text/plain": [
       "<Figure size 432x288 with 1 Axes>"
      ]
     },
     "metadata": {
      "needs_background": "light"
     },
     "output_type": "display_data"
    }
   ],
   "source": [
    "# Fazendo o curve fit\n",
    "alpha, pcov = curve_fit(func, df['X(m)'],df['R(ohm)'],sigma=df['$\\\\Delta R$'])\n",
    "y_fit = func(df['X(m)'], *alpha)\n",
    "\n",
    "# Plotando\n",
    "plt.plot(df['X(m)'], y_fit, color='red')\n",
    "plt.scatter(df['X(m)'], df['R(ohm)'], color='blue')\n",
    "plt.errorbar(df['X(m)'], df['R(ohm)'], yerr=df['$\\\\Delta R$'], fmt='none', color='blue')\n",
    "plt.ylabel(r'Resistividade($\\Omega$)', fontsize=14)\n",
    "plt.xlabel('Comprimento (cm)', fontsize=14)"
   ]
  },
  {
   "cell_type": "code",
   "execution_count": 17,
   "id": "identified-reserve",
   "metadata": {},
   "outputs": [
    {
     "name": "stdout",
     "output_type": "stream",
     "text": [
      "Coeficiente angular =  0.0211\n"
     ]
    }
   ],
   "source": [
    "# print(alpha.round(3))\n",
    "# print(alpha[0])\n",
    "# print(pcov)\n",
    "alpha = alpha[0].round(5)\n",
    "print('Coeficiente angular = ', alpha)"
   ]
  },
  {
   "cell_type": "code",
   "execution_count": 18,
   "id": "infinite-measurement",
   "metadata": {},
   "outputs": [
    {
     "name": "stdout",
     "output_type": "stream",
     "text": [
      "Area = 0.00204+/-0.00004  cm^2\n",
      "Resistividade =  0.00004+/-0.00018 (Ohm . cm)\n"
     ]
    }
   ],
   "source": [
    "# Calculo da áread e Resistividade com incerteza\n",
    "diametro = ufloat(0.0510,0.0005) \n",
    "r = diametro/2\n",
    "alpha = ufloat(alpha, 0.08788) # alpha\n",
    "A = np.pi * (r**2) # (centimetro quadrados)\n",
    "print('Area =', A,' cm^2')\n",
    "res = (alpha) *  A\n",
    "print('Resistividade = ',res, '(Ohm . cm)')"
   ]
  },
  {
   "cell_type": "code",
   "execution_count": null,
   "id": "perfect-county",
   "metadata": {},
   "outputs": [],
   "source": []
  },
  {
   "cell_type": "code",
   "execution_count": null,
   "id": "polish-courage",
   "metadata": {},
   "outputs": [],
   "source": []
  },
  {
   "cell_type": "code",
   "execution_count": null,
   "id": "random-tattoo",
   "metadata": {},
   "outputs": [],
   "source": []
  }
 ],
 "metadata": {
  "kernelspec": {
   "display_name": "Python 3",
   "language": "python",
   "name": "python3"
  },
  "language_info": {
   "codemirror_mode": {
    "name": "ipython",
    "version": 3
   },
   "file_extension": ".py",
   "mimetype": "text/x-python",
   "name": "python",
   "nbconvert_exporter": "python",
   "pygments_lexer": "ipython3",
   "version": "3.7.5"
  }
 },
 "nbformat": 4,
 "nbformat_minor": 5
}
