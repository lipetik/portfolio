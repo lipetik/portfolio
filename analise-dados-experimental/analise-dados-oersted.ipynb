{
 "cells": [
  {
   "cell_type": "code",
   "execution_count": 81,
   "id": "portable-workplace",
   "metadata": {},
   "outputs": [],
   "source": [
    "import pandas as pd\n",
    "import numpy as np\n",
    "import matplotlib.pyplot as plt\n",
    "from scipy.stats import linregress\n",
    "from scipy.optimize import curve_fit\n",
    "from scipy import constants\n",
    "from uncertainties import unumpy\n",
    "from uncertainties import ufloat\n",
    "from uncertainties.umath import *"
   ]
  },
  {
   "cell_type": "code",
   "execution_count": 2,
   "id": "ignored-excerpt",
   "metadata": {},
   "outputs": [],
   "source": [
    "df = pd.read_csv(\"dados.csv\")"
   ]
  },
  {
   "cell_type": "code",
   "execution_count": 3,
   "id": "north-engineer",
   "metadata": {},
   "outputs": [
    {
     "data": {
      "text/html": [
       "<div>\n",
       "<style scoped>\n",
       "    .dataframe tbody tr th:only-of-type {\n",
       "        vertical-align: middle;\n",
       "    }\n",
       "\n",
       "    .dataframe tbody tr th {\n",
       "        vertical-align: top;\n",
       "    }\n",
       "\n",
       "    .dataframe thead th {\n",
       "        text-align: right;\n",
       "    }\n",
       "</style>\n",
       "<table border=\"1\" class=\"dataframe\">\n",
       "  <thead>\n",
       "    <tr style=\"text-align: right;\">\n",
       "      <th></th>\n",
       "      <th>I(A)</th>\n",
       "      <th>dI(A)</th>\n",
       "      <th>angulo(graus)</th>\n",
       "      <th>dtheta</th>\n",
       "    </tr>\n",
       "  </thead>\n",
       "  <tbody>\n",
       "    <tr>\n",
       "      <th>0</th>\n",
       "      <td>2.94</td>\n",
       "      <td>0.05</td>\n",
       "      <td>134.0</td>\n",
       "      <td>0.05</td>\n",
       "    </tr>\n",
       "    <tr>\n",
       "      <th>1</th>\n",
       "      <td>2.60</td>\n",
       "      <td>0.05</td>\n",
       "      <td>137.5</td>\n",
       "      <td>0.05</td>\n",
       "    </tr>\n",
       "    <tr>\n",
       "      <th>2</th>\n",
       "      <td>2.30</td>\n",
       "      <td>0.04</td>\n",
       "      <td>141.0</td>\n",
       "      <td>0.05</td>\n",
       "    </tr>\n",
       "    <tr>\n",
       "      <th>3</th>\n",
       "      <td>1.99</td>\n",
       "      <td>0.04</td>\n",
       "      <td>146.0</td>\n",
       "      <td>0.05</td>\n",
       "    </tr>\n",
       "    <tr>\n",
       "      <th>4</th>\n",
       "      <td>1.70</td>\n",
       "      <td>0.03</td>\n",
       "      <td>151.0</td>\n",
       "      <td>0.05</td>\n",
       "    </tr>\n",
       "  </tbody>\n",
       "</table>\n",
       "</div>"
      ],
      "text/plain": [
       "   I(A)  dI(A)  angulo(graus)   dtheta\n",
       "0  2.94   0.05          134.0     0.05\n",
       "1  2.60   0.05          137.5     0.05\n",
       "2  2.30   0.04          141.0     0.05\n",
       "3  1.99   0.04          146.0     0.05\n",
       "4  1.70   0.03          151.0     0.05"
      ]
     },
     "execution_count": 3,
     "metadata": {},
     "output_type": "execute_result"
    }
   ],
   "source": [
    "df.head()"
   ]
  },
  {
   "cell_type": "code",
   "execution_count": 41,
   "id": "focused-quebec",
   "metadata": {},
   "outputs": [],
   "source": [
    "df['tan(theta)'] = np.round(np.tan(np.radians(df['angulo(graus)'])),4)\n"
   ]
  },
  {
   "cell_type": "code",
   "execution_count": 42,
   "id": "chubby-server",
   "metadata": {},
   "outputs": [],
   "source": [
    "df['dtan(theta)'] = (np.tan(np.radians(df['angulo(graus)'] + 0.5)) *0.5)- (np.tan(np.radians(df['angulo(graus)'] - 0.5)) * 0.5)\n",
    "df['dtan(theta)'] = np.round(df['dtan(theta)'],4)"
   ]
  },
  {
   "cell_type": "code",
   "execution_count": 43,
   "id": "future-sequence",
   "metadata": {},
   "outputs": [
    {
     "data": {
      "text/html": [
       "<div>\n",
       "<style scoped>\n",
       "    .dataframe tbody tr th:only-of-type {\n",
       "        vertical-align: middle;\n",
       "    }\n",
       "\n",
       "    .dataframe tbody tr th {\n",
       "        vertical-align: top;\n",
       "    }\n",
       "\n",
       "    .dataframe thead th {\n",
       "        text-align: right;\n",
       "    }\n",
       "</style>\n",
       "<table border=\"1\" class=\"dataframe\">\n",
       "  <thead>\n",
       "    <tr style=\"text-align: right;\">\n",
       "      <th></th>\n",
       "      <th>I(A)</th>\n",
       "      <th>dI(A)</th>\n",
       "      <th>angulo(graus)</th>\n",
       "      <th>dtheta</th>\n",
       "      <th>tan(theta)</th>\n",
       "      <th>dtan(theta)</th>\n",
       "      <th>B_fio</th>\n",
       "      <th>B_terra</th>\n",
       "      <th>incerteza</th>\n",
       "      <th>dB_terra</th>\n",
       "    </tr>\n",
       "  </thead>\n",
       "  <tbody>\n",
       "    <tr>\n",
       "      <th>0</th>\n",
       "      <td>2.94</td>\n",
       "      <td>0.05</td>\n",
       "      <td>134.0</td>\n",
       "      <td>0.05</td>\n",
       "      <td>-1.0355</td>\n",
       "      <td>0.0181</td>\n",
       "      <td>0.000073</td>\n",
       "      <td>-0.000070</td>\n",
       "      <td>6.163695e-06</td>\n",
       "      <td>0.004929</td>\n",
       "    </tr>\n",
       "    <tr>\n",
       "      <th>1</th>\n",
       "      <td>2.60</td>\n",
       "      <td>0.05</td>\n",
       "      <td>137.5</td>\n",
       "      <td>0.05</td>\n",
       "      <td>-0.9163</td>\n",
       "      <td>0.0161</td>\n",
       "      <td>0.000064</td>\n",
       "      <td>-0.000070</td>\n",
       "      <td>5.593660e-06</td>\n",
       "      <td>0.004359</td>\n",
       "    </tr>\n",
       "    <tr>\n",
       "      <th>2</th>\n",
       "      <td>2.30</td>\n",
       "      <td>0.04</td>\n",
       "      <td>141.0</td>\n",
       "      <td>0.05</td>\n",
       "      <td>-0.8098</td>\n",
       "      <td>0.0145</td>\n",
       "      <td>0.000057</td>\n",
       "      <td>-0.000070</td>\n",
       "      <td>4.843774e-06</td>\n",
       "      <td>0.003856</td>\n",
       "    </tr>\n",
       "    <tr>\n",
       "      <th>3</th>\n",
       "      <td>1.99</td>\n",
       "      <td>0.04</td>\n",
       "      <td>146.0</td>\n",
       "      <td>0.05</td>\n",
       "      <td>-0.6745</td>\n",
       "      <td>0.0127</td>\n",
       "      <td>0.000049</td>\n",
       "      <td>-0.000073</td>\n",
       "      <td>4.324036e-06</td>\n",
       "      <td>0.003336</td>\n",
       "    </tr>\n",
       "    <tr>\n",
       "      <th>4</th>\n",
       "      <td>1.70</td>\n",
       "      <td>0.03</td>\n",
       "      <td>151.0</td>\n",
       "      <td>0.05</td>\n",
       "      <td>-0.5543</td>\n",
       "      <td>0.0114</td>\n",
       "      <td>0.000042</td>\n",
       "      <td>-0.000076</td>\n",
       "      <td>3.590916e-06</td>\n",
       "      <td>0.002850</td>\n",
       "    </tr>\n",
       "    <tr>\n",
       "      <th>5</th>\n",
       "      <td>1.40</td>\n",
       "      <td>0.03</td>\n",
       "      <td>156.5</td>\n",
       "      <td>0.05</td>\n",
       "      <td>-0.4348</td>\n",
       "      <td>0.0104</td>\n",
       "      <td>0.000035</td>\n",
       "      <td>-0.000079</td>\n",
       "      <td>3.087944e-06</td>\n",
       "      <td>0.002347</td>\n",
       "    </tr>\n",
       "    <tr>\n",
       "      <th>6</th>\n",
       "      <td>1.10</td>\n",
       "      <td>0.03</td>\n",
       "      <td>158.5</td>\n",
       "      <td>0.05</td>\n",
       "      <td>-0.3939</td>\n",
       "      <td>0.0101</td>\n",
       "      <td>0.000027</td>\n",
       "      <td>-0.000069</td>\n",
       "      <td>2.584972e-06</td>\n",
       "      <td>0.001844</td>\n",
       "    </tr>\n",
       "    <tr>\n",
       "      <th>7</th>\n",
       "      <td>0.80</td>\n",
       "      <td>0.02</td>\n",
       "      <td>161.5</td>\n",
       "      <td>0.05</td>\n",
       "      <td>-0.3346</td>\n",
       "      <td>0.0097</td>\n",
       "      <td>0.000020</td>\n",
       "      <td>-0.000059</td>\n",
       "      <td>1.835086e-06</td>\n",
       "      <td>0.001341</td>\n",
       "    </tr>\n",
       "    <tr>\n",
       "      <th>8</th>\n",
       "      <td>0.51</td>\n",
       "      <td>0.02</td>\n",
       "      <td>166.5</td>\n",
       "      <td>0.05</td>\n",
       "      <td>-0.2401</td>\n",
       "      <td>0.0092</td>\n",
       "      <td>0.000013</td>\n",
       "      <td>-0.000052</td>\n",
       "      <td>1.348880e-06</td>\n",
       "      <td>0.000855</td>\n",
       "    </tr>\n",
       "    <tr>\n",
       "      <th>9</th>\n",
       "      <td>0.30</td>\n",
       "      <td>0.01</td>\n",
       "      <td>169.5</td>\n",
       "      <td>0.05</td>\n",
       "      <td>-0.1853</td>\n",
       "      <td>0.0090</td>\n",
       "      <td>0.000007</td>\n",
       "      <td>-0.000040</td>\n",
       "      <td>7.498857e-07</td>\n",
       "      <td>0.000503</td>\n",
       "    </tr>\n",
       "  </tbody>\n",
       "</table>\n",
       "</div>"
      ],
      "text/plain": [
       "   I(A)  dI(A)  angulo(graus)   dtheta  tan(theta)  dtan(theta)     B_fio  \\\n",
       "0  2.94   0.05          134.0     0.05     -1.0355       0.0181  0.000073   \n",
       "1  2.60   0.05          137.5     0.05     -0.9163       0.0161  0.000064   \n",
       "2  2.30   0.04          141.0     0.05     -0.8098       0.0145  0.000057   \n",
       "3  1.99   0.04          146.0     0.05     -0.6745       0.0127  0.000049   \n",
       "4  1.70   0.03          151.0     0.05     -0.5543       0.0114  0.000042   \n",
       "5  1.40   0.03          156.5     0.05     -0.4348       0.0104  0.000035   \n",
       "6  1.10   0.03          158.5     0.05     -0.3939       0.0101  0.000027   \n",
       "7  0.80   0.02          161.5     0.05     -0.3346       0.0097  0.000020   \n",
       "8  0.51   0.02          166.5     0.05     -0.2401       0.0092  0.000013   \n",
       "9  0.30   0.01          169.5     0.05     -0.1853       0.0090  0.000007   \n",
       "\n",
       "    B_terra     incerteza  dB_terra  \n",
       "0 -0.000070  6.163695e-06  0.004929  \n",
       "1 -0.000070  5.593660e-06  0.004359  \n",
       "2 -0.000070  4.843774e-06  0.003856  \n",
       "3 -0.000073  4.324036e-06  0.003336  \n",
       "4 -0.000076  3.590916e-06  0.002850  \n",
       "5 -0.000079  3.087944e-06  0.002347  \n",
       "6 -0.000069  2.584972e-06  0.001844  \n",
       "7 -0.000059  1.835086e-06  0.001341  \n",
       "8 -0.000052  1.348880e-06  0.000855  \n",
       "9 -0.000040  7.498857e-07  0.000503  "
      ]
     },
     "execution_count": 43,
     "metadata": {},
     "output_type": "execute_result"
    }
   ],
   "source": [
    "df.head(10)"
   ]
  },
  {
   "cell_type": "code",
   "execution_count": 11,
   "id": "first-crowd",
   "metadata": {},
   "outputs": [],
   "source": [
    "def reta(x,m,b): \n",
    "    return m*x + b"
   ]
  },
  {
   "cell_type": "code",
   "execution_count": 12,
   "id": "coral-recording",
   "metadata": {},
   "outputs": [],
   "source": [
    "slope, intercept, r, p, se = linregress(df['tan(theta)'], df['I(A)'])"
   ]
  },
  {
   "cell_type": "code",
   "execution_count": 49,
   "id": "modular-hampton",
   "metadata": {},
   "outputs": [
    {
     "name": "stdout",
     "output_type": "stream",
     "text": [
      "Coeficiente angular =  -3.0510247250164513\n"
     ]
    }
   ],
   "source": [
    "print(\"Coeficiente angular = \", slope)"
   ]
  },
  {
   "cell_type": "code",
   "execution_count": 13,
   "id": "thousand-workshop",
   "metadata": {},
   "outputs": [],
   "source": [
    "fit_reta = reta(df['tan(theta)'], slope, intercept)"
   ]
  },
  {
   "cell_type": "code",
   "execution_count": 92,
   "id": "secondary-outdoors",
   "metadata": {},
   "outputs": [
    {
     "name": "stderr",
     "output_type": "stream",
     "text": [
      "/home/filipe/.local/lib/python3.7/site-packages/ipykernel_launcher.py:11: MatplotlibDeprecationWarning: Adding an axes using the same arguments as a previous axes currently reuses the earlier instance.  In a future version, a new instance will always be created and returned.  Meanwhile, this warning can be suppressed, and the future behavior ensured, by passing a unique label to each axes instance.\n",
      "  # This is added back by InteractiveShellApp.init_path()\n"
     ]
    },
    {
     "data": {
      "image/png": "[encoded data removed]",
      "text/plain": [
       "<Figure size 1296x864 with 1 Axes>"
      ]
     },
     "metadata": {
      "needs_background": "light"
     },
     "output_type": "display_data"
    }
   ],
   "source": [
    "plt.figure(figsize=(18,12))\n",
    "plt.errorbar(df['tan(theta)'], df['I(A)'], xerr=df['dtan(theta)'], yerr=df['dI(A)'], fmt='o')\n",
    "plt.plot(df['tan(theta)'], fit_reta)\n",
    "\n",
    "plt.xlabel(r'Tangente ($\\theta$)',fontsize=16)\n",
    "plt.ylabel('Corrente(A)', fontsize=16)\n",
    "\n",
    "#Título:\n",
    "plt.title('Gráfico da tensão x corrente para determinar o coportamento da resistencia')\n",
    "# Escala\n",
    "ax=plt.axes()\n",
    "\n",
    "\n",
    "# Eixo Y \n",
    "plt.yticks(fontsize=14)\n",
    "plt.ylim(0,4)\n",
    "ax.yaxis.set_major_locator(plt.MultipleLocator(0.1))\n",
    "#ax.yaxis.set_minor_locator(plt.MultipleLocator(0.1))\n",
    "#plt.tick_params(axis='y', which='minor', length=3,width='1')\n",
    "#plt.tick_params(axis='y', which='major', length=5,width='2')\n",
    "\n",
    "# Eixo X\n",
    "plt.xticks(fontsize=14)\n",
    "#plt.xlim([-10,10])\n",
    "#ax.xaxis.set_minor_locator(plt.MultipleLocator(0.05))\n",
    "ax.xaxis.set_major_locator(plt.MultipleLocator(0.01))\n",
    "#plt.tick_params(axis='x', which='minor', length=2,width='1')\n",
    "#plt.tick_params(axis='x', which='major', length=4,width='2')\n",
    "# plt.savefig('VxI', dpi='figure')\n",
    "#plt.savefig('VxI')\n",
    "\n",
    "plt.grid()\n",
    "plt.show()"
   ]
  },
  {
   "cell_type": "markdown",
   "id": "failing-rendering",
   "metadata": {},
   "source": [
    "# O que falta\n",
    "\n",
    "1) Cacular a distancia do fio a bussola\n",
    "\n",
    "2) Calcular a componente horizontal do campo magnetico da terra"
   ]
  },
  {
   "cell_type": "markdown",
   "id": "operational-railway",
   "metadata": {},
   "source": [
    "# Campo magnetico\n",
    "* $B_{fio}$ pode ser calculado pela lei de Biot-Savart\n",
    "\n",
    "$B_{fio} = \\frac{\\mu_0 i}{2 \\pi R}$\n"
   ]
  },
  {
   "cell_type": "code",
   "execution_count": 44,
   "id": "sticky-fraud",
   "metadata": {},
   "outputs": [
    {
     "name": "stdout",
     "output_type": "stream",
     "text": [
      "1.25663706212e-06\n"
     ]
    }
   ],
   "source": [
    "print(mu_0)"
   ]
  },
  {
   "cell_type": "code",
   "execution_count": 65,
   "id": "coated-cambridge",
   "metadata": {},
   "outputs": [
    {
     "data": {
      "text/html": [
       "<div>\n",
       "<style scoped>\n",
       "    .dataframe tbody tr th:only-of-type {\n",
       "        vertical-align: middle;\n",
       "    }\n",
       "\n",
       "    .dataframe tbody tr th {\n",
       "        vertical-align: top;\n",
       "    }\n",
       "\n",
       "    .dataframe thead th {\n",
       "        text-align: right;\n",
       "    }\n",
       "</style>\n",
       "<table border=\"1\" class=\"dataframe\">\n",
       "  <thead>\n",
       "    <tr style=\"text-align: right;\">\n",
       "      <th></th>\n",
       "      <th>I(A)</th>\n",
       "      <th>dI(A)</th>\n",
       "      <th>angulo(graus)</th>\n",
       "      <th>dtheta</th>\n",
       "      <th>tan(theta)</th>\n",
       "      <th>dtan(theta)</th>\n",
       "      <th>B_fio</th>\n",
       "      <th>B_terra</th>\n",
       "      <th>incerteza</th>\n",
       "      <th>dB_terra</th>\n",
       "    </tr>\n",
       "  </thead>\n",
       "  <tbody>\n",
       "    <tr>\n",
       "      <th>0</th>\n",
       "      <td>2.94</td>\n",
       "      <td>0.05</td>\n",
       "      <td>134.0</td>\n",
       "      <td>0.05</td>\n",
       "      <td>-1.0355</td>\n",
       "      <td>0.0181</td>\n",
       "      <td>0.000036</td>\n",
       "      <td>-0.000070</td>\n",
       "      <td>3.081847e-06</td>\n",
       "      <td>0.004929</td>\n",
       "    </tr>\n",
       "    <tr>\n",
       "      <th>1</th>\n",
       "      <td>2.60</td>\n",
       "      <td>0.05</td>\n",
       "      <td>137.5</td>\n",
       "      <td>0.05</td>\n",
       "      <td>-0.9163</td>\n",
       "      <td>0.0161</td>\n",
       "      <td>0.000032</td>\n",
       "      <td>-0.000070</td>\n",
       "      <td>2.796830e-06</td>\n",
       "      <td>0.004359</td>\n",
       "    </tr>\n",
       "    <tr>\n",
       "      <th>2</th>\n",
       "      <td>2.30</td>\n",
       "      <td>0.04</td>\n",
       "      <td>141.0</td>\n",
       "      <td>0.05</td>\n",
       "      <td>-0.8098</td>\n",
       "      <td>0.0145</td>\n",
       "      <td>0.000028</td>\n",
       "      <td>-0.000070</td>\n",
       "      <td>2.421887e-06</td>\n",
       "      <td>0.003856</td>\n",
       "    </tr>\n",
       "    <tr>\n",
       "      <th>3</th>\n",
       "      <td>1.99</td>\n",
       "      <td>0.04</td>\n",
       "      <td>146.0</td>\n",
       "      <td>0.05</td>\n",
       "      <td>-0.6745</td>\n",
       "      <td>0.0127</td>\n",
       "      <td>0.000025</td>\n",
       "      <td>-0.000073</td>\n",
       "      <td>2.162018e-06</td>\n",
       "      <td>0.003336</td>\n",
       "    </tr>\n",
       "    <tr>\n",
       "      <th>4</th>\n",
       "      <td>1.70</td>\n",
       "      <td>0.03</td>\n",
       "      <td>151.0</td>\n",
       "      <td>0.05</td>\n",
       "      <td>-0.5543</td>\n",
       "      <td>0.0114</td>\n",
       "      <td>0.000021</td>\n",
       "      <td>-0.000076</td>\n",
       "      <td>1.795458e-06</td>\n",
       "      <td>0.002850</td>\n",
       "    </tr>\n",
       "    <tr>\n",
       "      <th>5</th>\n",
       "      <td>1.40</td>\n",
       "      <td>0.03</td>\n",
       "      <td>156.5</td>\n",
       "      <td>0.05</td>\n",
       "      <td>-0.4348</td>\n",
       "      <td>0.0104</td>\n",
       "      <td>0.000017</td>\n",
       "      <td>-0.000079</td>\n",
       "      <td>1.543972e-06</td>\n",
       "      <td>0.002347</td>\n",
       "    </tr>\n",
       "    <tr>\n",
       "      <th>6</th>\n",
       "      <td>1.10</td>\n",
       "      <td>0.03</td>\n",
       "      <td>158.5</td>\n",
       "      <td>0.05</td>\n",
       "      <td>-0.3939</td>\n",
       "      <td>0.0101</td>\n",
       "      <td>0.000014</td>\n",
       "      <td>-0.000069</td>\n",
       "      <td>1.292486e-06</td>\n",
       "      <td>0.001844</td>\n",
       "    </tr>\n",
       "    <tr>\n",
       "      <th>7</th>\n",
       "      <td>0.80</td>\n",
       "      <td>0.02</td>\n",
       "      <td>161.5</td>\n",
       "      <td>0.05</td>\n",
       "      <td>-0.3346</td>\n",
       "      <td>0.0097</td>\n",
       "      <td>0.000010</td>\n",
       "      <td>-0.000059</td>\n",
       "      <td>9.175431e-07</td>\n",
       "      <td>0.001341</td>\n",
       "    </tr>\n",
       "    <tr>\n",
       "      <th>8</th>\n",
       "      <td>0.51</td>\n",
       "      <td>0.02</td>\n",
       "      <td>166.5</td>\n",
       "      <td>0.05</td>\n",
       "      <td>-0.2401</td>\n",
       "      <td>0.0092</td>\n",
       "      <td>0.000006</td>\n",
       "      <td>-0.000052</td>\n",
       "      <td>6.744399e-07</td>\n",
       "      <td>0.000855</td>\n",
       "    </tr>\n",
       "    <tr>\n",
       "      <th>9</th>\n",
       "      <td>0.30</td>\n",
       "      <td>0.01</td>\n",
       "      <td>169.5</td>\n",
       "      <td>0.05</td>\n",
       "      <td>-0.1853</td>\n",
       "      <td>0.0090</td>\n",
       "      <td>0.000004</td>\n",
       "      <td>-0.000040</td>\n",
       "      <td>3.749428e-07</td>\n",
       "      <td>0.000503</td>\n",
       "    </tr>\n",
       "  </tbody>\n",
       "</table>\n",
       "</div>"
      ],
      "text/plain": [
       "   I(A)  dI(A)  angulo(graus)   dtheta  tan(theta)  dtan(theta)     B_fio  \\\n",
       "0  2.94   0.05          134.0     0.05     -1.0355       0.0181  0.000036   \n",
       "1  2.60   0.05          137.5     0.05     -0.9163       0.0161  0.000032   \n",
       "2  2.30   0.04          141.0     0.05     -0.8098       0.0145  0.000028   \n",
       "3  1.99   0.04          146.0     0.05     -0.6745       0.0127  0.000025   \n",
       "4  1.70   0.03          151.0     0.05     -0.5543       0.0114  0.000021   \n",
       "5  1.40   0.03          156.5     0.05     -0.4348       0.0104  0.000017   \n",
       "6  1.10   0.03          158.5     0.05     -0.3939       0.0101  0.000014   \n",
       "7  0.80   0.02          161.5     0.05     -0.3346       0.0097  0.000010   \n",
       "8  0.51   0.02          166.5     0.05     -0.2401       0.0092  0.000006   \n",
       "9  0.30   0.01          169.5     0.05     -0.1853       0.0090  0.000004   \n",
       "\n",
       "    B_terra     incerteza  dB_terra  \n",
       "0 -0.000070  3.081847e-06  0.004929  \n",
       "1 -0.000070  2.796830e-06  0.004359  \n",
       "2 -0.000070  2.421887e-06  0.003856  \n",
       "3 -0.000073  2.162018e-06  0.003336  \n",
       "4 -0.000076  1.795458e-06  0.002850  \n",
       "5 -0.000079  1.543972e-06  0.002347  \n",
       "6 -0.000069  1.292486e-06  0.001844  \n",
       "7 -0.000059  9.175431e-07  0.001341  \n",
       "8 -0.000052  6.744399e-07  0.000855  \n",
       "9 -0.000040  3.749428e-07  0.000503  "
      ]
     },
     "execution_count": 65,
     "metadata": {},
     "output_type": "execute_result"
    }
   ],
   "source": [
    "mu_0 = constants.mu_0 \n",
    "distancia = 16.2 * 10**(-3)\n",
    "incerteza = 1.1 * 10**(-3)\n",
    "df['B_fio'] = (mu_0 * df['I(A)'])/(2 *np.pi * distancia)\n",
    "df['incerteza'] = df['B_fio'] * (df['dI(A)']/df['I(A)'] + (incerteza/distancia))\n",
    "arr_corr = unumpy.uarray(df['I(A)'],df['dI(A)'])\n",
    "distancia_inc = ufloat(distancia,1.1)\n",
    "B_horizontal = (mu_0 * arr_corr)/(np.pi * distancia_inc)\n",
    "df.head(10)"
   ]
  },
  {
   "cell_type": "code",
   "execution_count": 66,
   "id": "unlimited-alexander",
   "metadata": {},
   "outputs": [],
   "source": [
    "df['B_terra'] = df['B_fio']/df['tan(theta)']"
   ]
  },
  {
   "cell_type": "code",
   "execution_count": 67,
   "id": "productive-delicious",
   "metadata": {},
   "outputs": [
    {
     "data": {
      "text/plain": [
       "-3.975149638153844e-05"
      ]
     },
     "execution_count": 67,
     "metadata": {},
     "output_type": "execute_result"
    }
   ],
   "source": [
    "df['B_terra'].min()"
   ]
  },
  {
   "cell_type": "code",
   "execution_count": 68,
   "id": "silent-livestock",
   "metadata": {},
   "outputs": [
    {
     "data": {
      "text/html": [
       "<div>\n",
       "<style scoped>\n",
       "    .dataframe tbody tr th:only-of-type {\n",
       "        vertical-align: middle;\n",
       "    }\n",
       "\n",
       "    .dataframe tbody tr th {\n",
       "        vertical-align: top;\n",
       "    }\n",
       "\n",
       "    .dataframe thead th {\n",
       "        text-align: right;\n",
       "    }\n",
       "</style>\n",
       "<table border=\"1\" class=\"dataframe\">\n",
       "  <thead>\n",
       "    <tr style=\"text-align: right;\">\n",
       "      <th></th>\n",
       "      <th>I(A)</th>\n",
       "      <th>dI(A)</th>\n",
       "      <th>angulo(graus)</th>\n",
       "      <th>dtheta</th>\n",
       "      <th>tan(theta)</th>\n",
       "      <th>dtan(theta)</th>\n",
       "      <th>B_fio</th>\n",
       "      <th>B_terra</th>\n",
       "      <th>incerteza</th>\n",
       "      <th>dB_terra</th>\n",
       "    </tr>\n",
       "  </thead>\n",
       "  <tbody>\n",
       "    <tr>\n",
       "      <th>0</th>\n",
       "      <td>2.94</td>\n",
       "      <td>0.05</td>\n",
       "      <td>134.0</td>\n",
       "      <td>0.05</td>\n",
       "      <td>-1.0355</td>\n",
       "      <td>0.0181</td>\n",
       "      <td>0.000036</td>\n",
       "      <td>-0.000035</td>\n",
       "      <td>3.081847e-06</td>\n",
       "      <td>0.004929</td>\n",
       "    </tr>\n",
       "    <tr>\n",
       "      <th>1</th>\n",
       "      <td>2.60</td>\n",
       "      <td>0.05</td>\n",
       "      <td>137.5</td>\n",
       "      <td>0.05</td>\n",
       "      <td>-0.9163</td>\n",
       "      <td>0.0161</td>\n",
       "      <td>0.000032</td>\n",
       "      <td>-0.000035</td>\n",
       "      <td>2.796830e-06</td>\n",
       "      <td>0.004359</td>\n",
       "    </tr>\n",
       "    <tr>\n",
       "      <th>2</th>\n",
       "      <td>2.30</td>\n",
       "      <td>0.04</td>\n",
       "      <td>141.0</td>\n",
       "      <td>0.05</td>\n",
       "      <td>-0.8098</td>\n",
       "      <td>0.0145</td>\n",
       "      <td>0.000028</td>\n",
       "      <td>-0.000035</td>\n",
       "      <td>2.421887e-06</td>\n",
       "      <td>0.003856</td>\n",
       "    </tr>\n",
       "    <tr>\n",
       "      <th>3</th>\n",
       "      <td>1.99</td>\n",
       "      <td>0.04</td>\n",
       "      <td>146.0</td>\n",
       "      <td>0.05</td>\n",
       "      <td>-0.6745</td>\n",
       "      <td>0.0127</td>\n",
       "      <td>0.000025</td>\n",
       "      <td>-0.000036</td>\n",
       "      <td>2.162018e-06</td>\n",
       "      <td>0.003336</td>\n",
       "    </tr>\n",
       "    <tr>\n",
       "      <th>4</th>\n",
       "      <td>1.70</td>\n",
       "      <td>0.03</td>\n",
       "      <td>151.0</td>\n",
       "      <td>0.05</td>\n",
       "      <td>-0.5543</td>\n",
       "      <td>0.0114</td>\n",
       "      <td>0.000021</td>\n",
       "      <td>-0.000038</td>\n",
       "      <td>1.795458e-06</td>\n",
       "      <td>0.002850</td>\n",
       "    </tr>\n",
       "    <tr>\n",
       "      <th>5</th>\n",
       "      <td>1.40</td>\n",
       "      <td>0.03</td>\n",
       "      <td>156.5</td>\n",
       "      <td>0.05</td>\n",
       "      <td>-0.4348</td>\n",
       "      <td>0.0104</td>\n",
       "      <td>0.000017</td>\n",
       "      <td>-0.000040</td>\n",
       "      <td>1.543972e-06</td>\n",
       "      <td>0.002347</td>\n",
       "    </tr>\n",
       "    <tr>\n",
       "      <th>6</th>\n",
       "      <td>1.10</td>\n",
       "      <td>0.03</td>\n",
       "      <td>158.5</td>\n",
       "      <td>0.05</td>\n",
       "      <td>-0.3939</td>\n",
       "      <td>0.0101</td>\n",
       "      <td>0.000014</td>\n",
       "      <td>-0.000034</td>\n",
       "      <td>1.292486e-06</td>\n",
       "      <td>0.001844</td>\n",
       "    </tr>\n",
       "    <tr>\n",
       "      <th>7</th>\n",
       "      <td>0.80</td>\n",
       "      <td>0.02</td>\n",
       "      <td>161.5</td>\n",
       "      <td>0.05</td>\n",
       "      <td>-0.3346</td>\n",
       "      <td>0.0097</td>\n",
       "      <td>0.000010</td>\n",
       "      <td>-0.000030</td>\n",
       "      <td>9.175431e-07</td>\n",
       "      <td>0.001341</td>\n",
       "    </tr>\n",
       "    <tr>\n",
       "      <th>8</th>\n",
       "      <td>0.51</td>\n",
       "      <td>0.02</td>\n",
       "      <td>166.5</td>\n",
       "      <td>0.05</td>\n",
       "      <td>-0.2401</td>\n",
       "      <td>0.0092</td>\n",
       "      <td>0.000006</td>\n",
       "      <td>-0.000026</td>\n",
       "      <td>6.744399e-07</td>\n",
       "      <td>0.000855</td>\n",
       "    </tr>\n",
       "    <tr>\n",
       "      <th>9</th>\n",
       "      <td>0.30</td>\n",
       "      <td>0.01</td>\n",
       "      <td>169.5</td>\n",
       "      <td>0.05</td>\n",
       "      <td>-0.1853</td>\n",
       "      <td>0.0090</td>\n",
       "      <td>0.000004</td>\n",
       "      <td>-0.000020</td>\n",
       "      <td>3.749428e-07</td>\n",
       "      <td>0.000503</td>\n",
       "    </tr>\n",
       "  </tbody>\n",
       "</table>\n",
       "</div>"
      ],
      "text/plain": [
       "   I(A)  dI(A)  angulo(graus)   dtheta  tan(theta)  dtan(theta)     B_fio  \\\n",
       "0  2.94   0.05          134.0     0.05     -1.0355       0.0181  0.000036   \n",
       "1  2.60   0.05          137.5     0.05     -0.9163       0.0161  0.000032   \n",
       "2  2.30   0.04          141.0     0.05     -0.8098       0.0145  0.000028   \n",
       "3  1.99   0.04          146.0     0.05     -0.6745       0.0127  0.000025   \n",
       "4  1.70   0.03          151.0     0.05     -0.5543       0.0114  0.000021   \n",
       "5  1.40   0.03          156.5     0.05     -0.4348       0.0104  0.000017   \n",
       "6  1.10   0.03          158.5     0.05     -0.3939       0.0101  0.000014   \n",
       "7  0.80   0.02          161.5     0.05     -0.3346       0.0097  0.000010   \n",
       "8  0.51   0.02          166.5     0.05     -0.2401       0.0092  0.000006   \n",
       "9  0.30   0.01          169.5     0.05     -0.1853       0.0090  0.000004   \n",
       "\n",
       "    B_terra     incerteza  dB_terra  \n",
       "0 -0.000035  3.081847e-06  0.004929  \n",
       "1 -0.000035  2.796830e-06  0.004359  \n",
       "2 -0.000035  2.421887e-06  0.003856  \n",
       "3 -0.000036  2.162018e-06  0.003336  \n",
       "4 -0.000038  1.795458e-06  0.002850  \n",
       "5 -0.000040  1.543972e-06  0.002347  \n",
       "6 -0.000034  1.292486e-06  0.001844  \n",
       "7 -0.000030  9.175431e-07  0.001341  \n",
       "8 -0.000026  6.744399e-07  0.000855  \n",
       "9 -0.000020  3.749428e-07  0.000503  "
      ]
     },
     "execution_count": 68,
     "metadata": {},
     "output_type": "execute_result"
    }
   ],
   "source": [
    "df.head(20)"
   ]
  },
  {
   "cell_type": "code",
   "execution_count": 69,
   "id": "endangered-lightweight",
   "metadata": {},
   "outputs": [
    {
     "name": "stdout",
     "output_type": "stream",
     "text": [
      "7.259259263211024e-05\n",
      "0.004929126814812313\n",
      "[7.259259263211024e-05+/-0.004929126814812313\n",
      " 6.419753089914512e-05+/-0.0043590917790881124\n",
      " 5.679012348770529e-05+/-0.0038561196225609666\n",
      " 4.9135802495884147e-05+/-0.003336381797140566\n",
      " 4.197530866482565e-05+/-0.002850175375967067\n",
      " 3.456790125338583e-05+/-0.0023472032884093125\n",
      " 2.716049384194601e-05+/-0.001844231212102338\n",
      " 1.975308643050619e-05+/-0.001341259046066916\n",
      " 1.2592592599447694e-05+/-0.0008550527265155989\n",
      " 7.4074074114398205e-06+/-0.0005029721687902424]\n"
     ]
    }
   ],
   "source": [
    "print(B_horizontal[0].n)\n",
    "print(B_horizontal[0].s)\n",
    "print(B_horizontal)"
   ]
  },
  {
   "cell_type": "code",
   "execution_count": 70,
   "id": "every-estonia",
   "metadata": {},
   "outputs": [
    {
     "name": "stderr",
     "output_type": "stream",
     "text": [
      "/home/filipe/.local/lib/python3.7/site-packages/pandas/core/indexing.py:1637: SettingWithCopyWarning: \n",
      "A value is trying to be set on a copy of a slice from a DataFrame\n",
      "\n",
      "See the caveats in the documentation: https://pandas.pydata.org/pandas-docs/stable/user_guide/indexing.html#returning-a-view-versus-a-copy\n",
      "  self._setitem_single_block(indexer, value, name)\n"
     ]
    }
   ],
   "source": [
    "df['dB_terra'] = 0\n",
    "for i in range(len(df['I(A)'])):\n",
    "   # df.iloc[['dB_terra'][i]] = B_horizontal[i].s\n",
    "   df['dB_terra'].iloc[i] =  B_horizontal[i].s\n"
   ]
  },
  {
   "cell_type": "code",
   "execution_count": 71,
   "id": "presidential-moscow",
   "metadata": {
    "scrolled": true
   },
   "outputs": [
    {
     "data": {
      "text/html": [
       "<div>\n",
       "<style scoped>\n",
       "    .dataframe tbody tr th:only-of-type {\n",
       "        vertical-align: middle;\n",
       "    }\n",
       "\n",
       "    .dataframe tbody tr th {\n",
       "        vertical-align: top;\n",
       "    }\n",
       "\n",
       "    .dataframe thead th {\n",
       "        text-align: right;\n",
       "    }\n",
       "</style>\n",
       "<table border=\"1\" class=\"dataframe\">\n",
       "  <thead>\n",
       "    <tr style=\"text-align: right;\">\n",
       "      <th></th>\n",
       "      <th>I(A)</th>\n",
       "      <th>dI(A)</th>\n",
       "      <th>angulo(graus)</th>\n",
       "      <th>dtheta</th>\n",
       "      <th>tan(theta)</th>\n",
       "      <th>dtan(theta)</th>\n",
       "      <th>B_fio</th>\n",
       "      <th>B_terra</th>\n",
       "      <th>incerteza</th>\n",
       "      <th>dB_terra</th>\n",
       "    </tr>\n",
       "  </thead>\n",
       "  <tbody>\n",
       "    <tr>\n",
       "      <th>0</th>\n",
       "      <td>2.94</td>\n",
       "      <td>0.05</td>\n",
       "      <td>134.0</td>\n",
       "      <td>0.05</td>\n",
       "      <td>-1.0355</td>\n",
       "      <td>0.0181</td>\n",
       "      <td>0.000036</td>\n",
       "      <td>-0.000035</td>\n",
       "      <td>3.081847e-06</td>\n",
       "      <td>0.004929</td>\n",
       "    </tr>\n",
       "    <tr>\n",
       "      <th>1</th>\n",
       "      <td>2.60</td>\n",
       "      <td>0.05</td>\n",
       "      <td>137.5</td>\n",
       "      <td>0.05</td>\n",
       "      <td>-0.9163</td>\n",
       "      <td>0.0161</td>\n",
       "      <td>0.000032</td>\n",
       "      <td>-0.000035</td>\n",
       "      <td>2.796830e-06</td>\n",
       "      <td>0.004359</td>\n",
       "    </tr>\n",
       "    <tr>\n",
       "      <th>2</th>\n",
       "      <td>2.30</td>\n",
       "      <td>0.04</td>\n",
       "      <td>141.0</td>\n",
       "      <td>0.05</td>\n",
       "      <td>-0.8098</td>\n",
       "      <td>0.0145</td>\n",
       "      <td>0.000028</td>\n",
       "      <td>-0.000035</td>\n",
       "      <td>2.421887e-06</td>\n",
       "      <td>0.003856</td>\n",
       "    </tr>\n",
       "    <tr>\n",
       "      <th>3</th>\n",
       "      <td>1.99</td>\n",
       "      <td>0.04</td>\n",
       "      <td>146.0</td>\n",
       "      <td>0.05</td>\n",
       "      <td>-0.6745</td>\n",
       "      <td>0.0127</td>\n",
       "      <td>0.000025</td>\n",
       "      <td>-0.000036</td>\n",
       "      <td>2.162018e-06</td>\n",
       "      <td>0.003336</td>\n",
       "    </tr>\n",
       "    <tr>\n",
       "      <th>4</th>\n",
       "      <td>1.70</td>\n",
       "      <td>0.03</td>\n",
       "      <td>151.0</td>\n",
       "      <td>0.05</td>\n",
       "      <td>-0.5543</td>\n",
       "      <td>0.0114</td>\n",
       "      <td>0.000021</td>\n",
       "      <td>-0.000038</td>\n",
       "      <td>1.795458e-06</td>\n",
       "      <td>0.002850</td>\n",
       "    </tr>\n",
       "    <tr>\n",
       "      <th>5</th>\n",
       "      <td>1.40</td>\n",
       "      <td>0.03</td>\n",
       "      <td>156.5</td>\n",
       "      <td>0.05</td>\n",
       "      <td>-0.4348</td>\n",
       "      <td>0.0104</td>\n",
       "      <td>0.000017</td>\n",
       "      <td>-0.000040</td>\n",
       "      <td>1.543972e-06</td>\n",
       "      <td>0.002347</td>\n",
       "    </tr>\n",
       "    <tr>\n",
       "      <th>6</th>\n",
       "      <td>1.10</td>\n",
       "      <td>0.03</td>\n",
       "      <td>158.5</td>\n",
       "      <td>0.05</td>\n",
       "      <td>-0.3939</td>\n",
       "      <td>0.0101</td>\n",
       "      <td>0.000014</td>\n",
       "      <td>-0.000034</td>\n",
       "      <td>1.292486e-06</td>\n",
       "      <td>0.001844</td>\n",
       "    </tr>\n",
       "    <tr>\n",
       "      <th>7</th>\n",
       "      <td>0.80</td>\n",
       "      <td>0.02</td>\n",
       "      <td>161.5</td>\n",
       "      <td>0.05</td>\n",
       "      <td>-0.3346</td>\n",
       "      <td>0.0097</td>\n",
       "      <td>0.000010</td>\n",
       "      <td>-0.000030</td>\n",
       "      <td>9.175431e-07</td>\n",
       "      <td>0.001341</td>\n",
       "    </tr>\n",
       "    <tr>\n",
       "      <th>8</th>\n",
       "      <td>0.51</td>\n",
       "      <td>0.02</td>\n",
       "      <td>166.5</td>\n",
       "      <td>0.05</td>\n",
       "      <td>-0.2401</td>\n",
       "      <td>0.0092</td>\n",
       "      <td>0.000006</td>\n",
       "      <td>-0.000026</td>\n",
       "      <td>6.744399e-07</td>\n",
       "      <td>0.000855</td>\n",
       "    </tr>\n",
       "    <tr>\n",
       "      <th>9</th>\n",
       "      <td>0.30</td>\n",
       "      <td>0.01</td>\n",
       "      <td>169.5</td>\n",
       "      <td>0.05</td>\n",
       "      <td>-0.1853</td>\n",
       "      <td>0.0090</td>\n",
       "      <td>0.000004</td>\n",
       "      <td>-0.000020</td>\n",
       "      <td>3.749428e-07</td>\n",
       "      <td>0.000503</td>\n",
       "    </tr>\n",
       "  </tbody>\n",
       "</table>\n",
       "</div>"
      ],
      "text/plain": [
       "   I(A)  dI(A)  angulo(graus)   dtheta  tan(theta)  dtan(theta)     B_fio  \\\n",
       "0  2.94   0.05          134.0     0.05     -1.0355       0.0181  0.000036   \n",
       "1  2.60   0.05          137.5     0.05     -0.9163       0.0161  0.000032   \n",
       "2  2.30   0.04          141.0     0.05     -0.8098       0.0145  0.000028   \n",
       "3  1.99   0.04          146.0     0.05     -0.6745       0.0127  0.000025   \n",
       "4  1.70   0.03          151.0     0.05     -0.5543       0.0114  0.000021   \n",
       "5  1.40   0.03          156.5     0.05     -0.4348       0.0104  0.000017   \n",
       "6  1.10   0.03          158.5     0.05     -0.3939       0.0101  0.000014   \n",
       "7  0.80   0.02          161.5     0.05     -0.3346       0.0097  0.000010   \n",
       "8  0.51   0.02          166.5     0.05     -0.2401       0.0092  0.000006   \n",
       "9  0.30   0.01          169.5     0.05     -0.1853       0.0090  0.000004   \n",
       "\n",
       "    B_terra     incerteza  dB_terra  \n",
       "0 -0.000035  3.081847e-06  0.004929  \n",
       "1 -0.000035  2.796830e-06  0.004359  \n",
       "2 -0.000035  2.421887e-06  0.003856  \n",
       "3 -0.000036  2.162018e-06  0.003336  \n",
       "4 -0.000038  1.795458e-06  0.002850  \n",
       "5 -0.000040  1.543972e-06  0.002347  \n",
       "6 -0.000034  1.292486e-06  0.001844  \n",
       "7 -0.000030  9.175431e-07  0.001341  \n",
       "8 -0.000026  6.744399e-07  0.000855  \n",
       "9 -0.000020  3.749428e-07  0.000503  "
      ]
     },
     "execution_count": 71,
     "metadata": {},
     "output_type": "execute_result"
    }
   ],
   "source": [
    "df.head(10)"
   ]
  },
  {
   "cell_type": "code",
   "execution_count": 125,
   "id": "bored-invite",
   "metadata": {},
   "outputs": [
    {
     "data": {
      "text/plain": [
       "0    3.081847e-06\n",
       "1    2.796830e-06\n",
       "2    2.421887e-06\n",
       "3    2.162018e-06\n",
       "4    1.795458e-06\n",
       "5    1.543972e-06\n",
       "6    1.292486e-06\n",
       "7    9.175431e-07\n",
       "8    6.744399e-07\n",
       "9    3.749428e-07\n",
       "Name: incerteza, dtype: float64"
      ]
     },
     "execution_count": 125,
     "metadata": {},
     "output_type": "execute_result"
    }
   ],
   "source": [
    "df['incerteza']"
   ]
  },
  {
   "cell_type": "code",
   "execution_count": 124,
   "id": "public-southwest",
   "metadata": {},
   "outputs": [
    {
     "data": {
      "text/plain": [
       "1.93086419858198e-05"
      ]
     },
     "execution_count": 124,
     "metadata": {},
     "output_type": "execute_result"
    }
   ],
   "source": [
    "df['B_fio'].mean()"
   ]
  },
  {
   "cell_type": "code",
   "execution_count": 74,
   "id": "worse-better",
   "metadata": {},
   "outputs": [
    {
     "data": {
      "text/plain": [
       "1.7061423572769004e-06"
      ]
     },
     "execution_count": 74,
     "metadata": {},
     "output_type": "execute_result"
    }
   ],
   "source": [
    "df['incerteza'].mean()"
   ]
  },
  {
   "cell_type": "code",
   "execution_count": 75,
   "id": "northern-montana",
   "metadata": {},
   "outputs": [
    {
     "data": {
      "text/plain": [
       "0.002622161383145343"
      ]
     },
     "execution_count": 75,
     "metadata": {},
     "output_type": "execute_result"
    }
   ],
   "source": [
    "df['dB_terra'].mean()"
   ]
  },
  {
   "cell_type": "code",
   "execution_count": 76,
   "id": "convenient-mounting",
   "metadata": {},
   "outputs": [
    {
     "data": {
      "text/plain": [
       "7.2999999999999996e-06"
      ]
     },
     "execution_count": 76,
     "metadata": {},
     "output_type": "execute_result"
    }
   ],
   "source": [
    "7.3 * 10**(-6)"
   ]
  },
  {
   "cell_type": "code",
   "execution_count": 77,
   "id": "split-distinction",
   "metadata": {},
   "outputs": [
    {
     "data": {
      "text/plain": [
       "7.3e-05"
      ]
     },
     "execution_count": 77,
     "metadata": {},
     "output_type": "execute_result"
    }
   ],
   "source": [
    "0.000073\n"
   ]
  },
  {
   "cell_type": "code",
   "execution_count": 96,
   "id": "respiratory-fleece",
   "metadata": {},
   "outputs": [],
   "source": [
    "slope2, intercept2, r2, p2, se2 = linregress(df['tan(theta)'], df['B_fio'])\n",
    "x = np.linspace(-1.1,-0.1,1000)\n",
    "fit_reta2 = reta(x, slope2, intercept2)"
   ]
  },
  {
   "cell_type": "code",
   "execution_count": 121,
   "id": "interstate-booth",
   "metadata": {},
   "outputs": [
    {
     "name": "stderr",
     "output_type": "stream",
     "text": [
      "/home/filipe/.local/lib/python3.7/site-packages/ipykernel_launcher.py:11: MatplotlibDeprecationWarning: Adding an axes using the same arguments as a previous axes currently reuses the earlier instance.  In a future version, a new instance will always be created and returned.  Meanwhile, this warning can be suppressed, and the future behavior ensured, by passing a unique label to each axes instance.\n",
      "  # This is added back by InteractiveShellApp.init_path()\n"
     ]
    },
    {
     "data": {
      "image/png": "[encoded data removed]",
      "text/plain": [
       "<Figure size 1296x864 with 1 Axes>"
      ]
     },
     "metadata": {
      "needs_background": "light"
     },
     "output_type": "display_data"
    }
   ],
   "source": [
    "plt.figure(figsize=(18,12))\n",
    "plt.errorbar(df['tan(theta)'], df['B_fio'], xerr=df['dtan(theta)'], yerr=df['incerteza'], fmt='o')\n",
    "plt.plot(x, fit_reta2)\n",
    "\n",
    "plt.xlabel(r'Tangente ($\\theta$)',fontsize=16)\n",
    "plt.ylabel('Campo do Fio(T)', fontsize=16)\n",
    "\n",
    "#Título:\n",
    "plt.title(r'Reta do Campo Magnético do fio X tan($\\theta$), para determinar a componente horizontal do campo da Terra')\n",
    "# Escala\n",
    "ax=plt.axes()\n",
    "\n",
    "\n",
    "# Eixo Y \n",
    "plt.yticks(fontsize=14)\n",
    "#plt.ylim(0,4)\n",
    "ax.yaxis.set_major_locator(plt.MultipleLocator(0.1 * 10**(-5)))\n",
    "#ax.yaxis.set_minor_locator(plt.MultipleLocator(0.1))\n",
    "#plt.tick_params(axis='y', which='minor', length=3,width='1')\n",
    "#plt.tick_params(axis='y', which='major', length=5,width='2')\n",
    "\n",
    "# Eixo X\n",
    "plt.xticks(fontsize=9 , rotation=45)\n",
    "plt.xlim([-1.10,-0.16])\n",
    "ax.xaxis.set_minor_locator(plt.MultipleLocator(0.01))\n",
    "ax.xaxis.set_major_locator(plt.MultipleLocator(0.02))\n",
    "#plt.tick_params(axis='x', which='minor', length=2,width='1')\n",
    "#plt.tick_params(axis='x', which='major', length=4,width='2')\n",
    "# plt.savefig('VxI', dpi='figure')\n",
    "\n",
    "plt.grid()\n",
    "\n",
    "plt.savefig('CampoMagnetico.pdf')\n",
    "\n",
    "plt.show()\n"
   ]
  },
  {
   "cell_type": "code",
   "execution_count": 80,
   "id": "military-ozone",
   "metadata": {},
   "outputs": [
    {
     "name": "stdout",
     "output_type": "stream",
     "text": [
      "-3.767919813423754e-05\n"
     ]
    }
   ],
   "source": [
    "print(slope2)"
   ]
  },
  {
   "cell_type": "code",
   "execution_count": 86,
   "id": "vocal-carry",
   "metadata": {},
   "outputs": [
    {
     "name": "stdout",
     "output_type": "stream",
     "text": [
      "0.3+/-1.9\n"
     ]
    }
   ],
   "source": [
    "x = ufloat(38,2)\n",
    "seno = sin(x)\n",
    "print(seno)\n",
    "#B = ufloat(37,2)/seno"
   ]
  },
  {
   "cell_type": "code",
   "execution_count": 84,
   "id": "turkish-quick",
   "metadata": {},
   "outputs": [
    {
     "name": "stdout",
     "output_type": "stream",
     "text": [
      "(1+/-8)e+02\n"
     ]
    }
   ],
   "source": [
    "print(B)"
   ]
  },
  {
   "cell_type": "code",
   "execution_count": null,
   "id": "likely-mystery",
   "metadata": {},
   "outputs": [],
   "source": []
  }
 ],
 "metadata": {
  "kernelspec": {
   "display_name": "Python 3",
   "language": "python",
   "name": "python3"
  },
  "language_info": {
   "codemirror_mode": {
    "name": "ipython",
    "version": 3
   },
   "file_extension": ".py",
   "mimetype": "text/x-python",
   "name": "python",
   "nbconvert_exporter": "python",
   "pygments_lexer": "ipython3",
   "version": "3.7.5"
  }
 },
 "nbformat": 4,
 "nbformat_minor": 5
}
