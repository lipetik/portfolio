{
 "cells": [
  {
   "cell_type": "code",
   "execution_count": 1,
   "id": "7c48b5f8",
   "metadata": {},
   "outputs": [],
   "source": [
    "import pandas as pd\n",
    "import matplotlib.pyplot as plt \n",
    "import numpy as np\n",
    "%matplotlib inline"
   ]
  },
  {
   "cell_type": "code",
   "execution_count": 2,
   "id": "bea40219",
   "metadata": {},
   "outputs": [
    {
     "data": {
      "text/html": [
       "<div>\n",
       "<style scoped>\n",
       "    .dataframe tbody tr th:only-of-type {\n",
       "        vertical-align: middle;\n",
       "    }\n",
       "\n",
       "    .dataframe tbody tr th {\n",
       "        vertical-align: top;\n",
       "    }\n",
       "\n",
       "    .dataframe thead th {\n",
       "        text-align: right;\n",
       "    }\n",
       "</style>\n",
       "<table border=\"1\" class=\"dataframe\">\n",
       "  <thead>\n",
       "    <tr style=\"text-align: right;\">\n",
       "      <th></th>\n",
       "      <th># k</th>\n",
       "      <th>n=0</th>\n",
       "      <th>n=1</th>\n",
       "      <th>n=2</th>\n",
       "      <th>n=3</th>\n",
       "    </tr>\n",
       "  </thead>\n",
       "  <tbody>\n",
       "    <tr>\n",
       "      <th>0</th>\n",
       "      <td>-3.141593</td>\n",
       "      <td>54.939740</td>\n",
       "      <td>54.939740</td>\n",
       "      <td>94.457583</td>\n",
       "      <td>94.457584</td>\n",
       "    </tr>\n",
       "    <tr>\n",
       "      <th>1</th>\n",
       "      <td>-3.078126</td>\n",
       "      <td>54.742170</td>\n",
       "      <td>55.141341</td>\n",
       "      <td>93.860846</td>\n",
       "      <td>95.058354</td>\n",
       "    </tr>\n",
       "    <tr>\n",
       "      <th>2</th>\n",
       "      <td>-3.014660</td>\n",
       "      <td>54.548633</td>\n",
       "      <td>55.346975</td>\n",
       "      <td>93.268139</td>\n",
       "      <td>95.663156</td>\n",
       "    </tr>\n",
       "    <tr>\n",
       "      <th>3</th>\n",
       "      <td>-2.951193</td>\n",
       "      <td>54.359128</td>\n",
       "      <td>55.556640</td>\n",
       "      <td>92.679465</td>\n",
       "      <td>96.271990</td>\n",
       "    </tr>\n",
       "    <tr>\n",
       "      <th>4</th>\n",
       "      <td>-2.887727</td>\n",
       "      <td>54.173654</td>\n",
       "      <td>55.770337</td>\n",
       "      <td>92.094823</td>\n",
       "      <td>96.884857</td>\n",
       "    </tr>\n",
       "  </tbody>\n",
       "</table>\n",
       "</div>"
      ],
      "text/plain": [
       "        # k        n=0        n=1        n=2        n=3\n",
       "0 -3.141593  54.939740  54.939740  94.457583  94.457584\n",
       "1 -3.078126  54.742170  55.141341  93.860846  95.058354\n",
       "2 -3.014660  54.548633  55.346975  93.268139  95.663156\n",
       "3 -2.951193  54.359128  55.556640  92.679465  96.271990\n",
       "4 -2.887727  54.173654  55.770337  92.094823  96.884857"
      ]
     },
     "execution_count": 2,
     "metadata": {},
     "output_type": "execute_result"
    }
   ],
   "source": [
    "df = pd.read_csv(\"teste.csv\") # 1*b\n",
    "df2 = pd.read_csv(\"b75.csv\")\n",
    "# df.columns \n",
    "# df['k']\n",
    "# df.head()\n",
    "# df['  k'] = np.real(df['  k'])#[::]\n",
    "df.head()"
   ]
  },
  {
   "cell_type": "code",
   "execution_count": 3,
   "id": "cb32e71d",
   "metadata": {},
   "outputs": [
    {
     "data": {
      "text/plain": [
       "Index(['# k', 'n=0', 'n=1', 'n=2', 'n=3'], dtype='object')"
      ]
     },
     "execution_count": 3,
     "metadata": {},
     "output_type": "execute_result"
    }
   ],
   "source": [
    "df.columns"
   ]
  },
  {
   "cell_type": "code",
   "execution_count": 17,
   "id": "4687a2e7",
   "metadata": {},
   "outputs": [
    {
     "data": {
      "text/plain": [
       "[<matplotlib.lines.Line2D at 0x7f24103e7fd0>]"
      ]
     },
     "execution_count": 17,
     "metadata": {},
     "output_type": "execute_result"
    },
    {
     "data": {
      "image/png": "[encoded data removed]",
      "text/plain": [
       "<Figure size 432x288 with 2 Axes>"
      ]
     },
     "metadata": {
      "needs_background": "light"
     },
     "output_type": "display_data"
    }
   ],
   "source": [
    "plt.subplot(1, 2, 2)\n",
    "plt.ylim(0,150)\n",
    "plt.plot(df['# k'],df['n=0'])\n",
    "plt.plot(df['# k'],df['n=1'])\n",
    "plt.plot(df['# k'],df['n=2'])\n",
    "plt.plot(df['# k'],df['n=3'])\n",
    "# plt.title('A tale of 2 subplots')\n",
    "# plt.ylabel('Damped oscillation')\n",
    "\n",
    "\n",
    "plt.subplot(1, 2, 1)\n",
    "plt.ylim(0,150)\n",
    "plt.plot(df2['# k'],df2['n=0'])\n",
    "plt.plot(df2['# k'],df2['n=1'])\n",
    "plt.plot(df2['# k'],df2['n=2'])\n",
    "plt.plot(df2['# k'],df2['n=3'])\n",
    "# plt.xlabel('time (s)')\n",
    "# plt.ylabel('Undamped')\n",
    "\n",
    "# plt.show()\n"
   ]
  }
 ],
 "metadata": {
  "kernelspec": {
   "display_name": "Python 3 (ipykernel)",
   "language": "python",
   "name": "python3"
  },
  "language_info": {
   "codemirror_mode": {
    "name": "ipython",
    "version": 3
   },
   "file_extension": ".py",
   "mimetype": "text/x-python",
   "name": "python",
   "nbconvert_exporter": "python",
   "pygments_lexer": "ipython3",
   "version": "3.9.7"
  }
 },
 "nbformat": 4,
 "nbformat_minor": 5
}
