{
 "cells": [
  {
   "cell_type": "code",
   "execution_count": 6,
   "id": "a81bc7e5",
   "metadata": {},
   "outputs": [],
   "source": [
    "import numpy as np\n",
    "import matplotlib.pyplot as plt \n",
    "from funcoes import basis_sin,V,second_derivative,Plane_wave, bloch_periodic,derivative_integrand_matrix\n",
    "from scipy import integrate\n",
    "import numpy.linalg as la\n",
    "from scipy.linalg import eigh_tridiagonal, eig\n",
    "%matplotlib inline"
   ]
  },
  {
   "cell_type": "code",
   "execution_count": 2,
   "id": "5d338d59",
   "metadata": {},
   "outputs": [],
   "source": [
    "# Parâmetros do problema\n",
    "a = 0 # início do intervalo\n",
    "b = 1 # final do intervalo\n",
    "interval_number = 2000 # numero de divisoes do espaço\n",
    "\n",
    "# step (h) do intervalo de x \n",
    "\n",
    "h = (b-a)/interval_number"
   ]
  },
  {
   "cell_type": "code",
   "execution_count": 4,
   "id": "178c041e",
   "metadata": {},
   "outputs": [],
   "source": [
    "# Arrays declarados\n",
    "x = np.linspace(a, b, interval_number,dtype=np.cdouble) # array com o intervalo\n",
    "n = np.linspace(1, 10, 10) # numero de bases\n",
    "K = np.linspace(-np.pi/b,np.pi/b,100)"
   ]
  },
  {
   "cell_type": "code",
   "execution_count": 5,
   "id": "378aca7e",
   "metadata": {},
   "outputs": [],
   "source": [
    "psi = Plane_wave(x, n, b)\n",
    "bloch = bloch_periodic(x, K)\n",
    "# V_x = V(x)\n",
    "# plt.plot(x,V_x)"
   ]
  },
  {
   "cell_type": "code",
   "execution_count": 7,
   "id": "1a79cc8a",
   "metadata": {},
   "outputs": [],
   "source": [
    "psi_der = derivative_matrix(psi, n, h)"
   ]
  },
  {
   "cell_type": "code",
   "execution_count": 8,
   "id": "e3ecbf11",
   "metadata": {},
   "outputs": [
    {
     "data": {
      "text/plain": [
       "array([[  -39.51769791-1.24211024e-01j,   -39.51769791-1.24211024e-01j,\n",
       "          -39.51711229-2.48420820e-01j, ...,\n",
       "          -39.51711229+2.48420817e-01j,   -39.51769791+1.24211027e-01j,\n",
       "          -39.51769791+1.24211027e-01j],\n",
       "       [ -158.06805873-9.93680827e-01j,  -158.06805873-9.93680827e-01j,\n",
       "         -158.05868892-1.98732239e+00j, ...,\n",
       "         -158.05868892+1.98732238e+00j,  -158.06805873+9.93680835e-01j,\n",
       "         -158.06805873+9.93680835e-01j],\n",
       "       [ -355.64288391-3.35363138e+00j,  -355.64288391-3.35363138e+00j,\n",
       "         -355.5954504 -6.70696457e+00j, ...,\n",
       "         -355.5954504 +6.70696457e+00j,  -355.64288391+3.35363138e+00j,\n",
       "         -355.64288391+3.35363138e+00j],\n",
       "       ...,\n",
       "       [-2528.21449327-6.35861491e+01j, -2528.21449327-6.35861491e+01j,\n",
       "        -2525.81653186-1.27132096e+02j, ...,\n",
       "        -2525.81653186+1.27132096e+02j, -2528.21449327+6.35861492e+01j,\n",
       "        -2528.21449327+6.35861492e+01j],\n",
       "       [-3199.45793222-9.05319460e+01j, -3199.45793222-9.05319460e+01j,\n",
       "        -3195.61718427-1.80991450e+02j, ...,\n",
       "        -3195.61718427+1.80991450e+02j, -3199.45793222+9.05319461e+01j,\n",
       "        -3199.45793222+9.05319461e+01j],\n",
       "       [-3949.51546693-1.24180655e+02j, -3949.51546693-1.24180655e+02j,\n",
       "        -3943.66211004-2.48238636e+02j, ...,\n",
       "        -3943.66211005+2.48238636e+02j, -3949.51546693+1.24180655e+02j,\n",
       "        -3949.51546693+1.24180655e+02j]])"
      ]
     },
     "execution_count": 8,
     "metadata": {},
     "output_type": "execute_result"
    }
   ],
   "source": [
    "psi_der"
   ]
  },
  {
   "cell_type": "code",
   "execution_count": null,
   "id": "9bb01ec6",
   "metadata": {},
   "outputs": [],
   "source": [
    "psi[0] #indexado como a n-ésima base"
   ]
  },
  {
   "cell_type": "code",
   "execution_count": null,
   "id": "2cdf43de",
   "metadata": {},
   "outputs": [],
   "source": [
    "bloch[0] # indexado para os valores de K"
   ]
  },
  {
   "cell_type": "code",
   "execution_count": null,
   "id": "9894f87a",
   "metadata": {},
   "outputs": [],
   "source": [
    "teste = psi[0] * bloch[0] # psi n = 0 k=0 \n",
    "print(len(bloch))"
   ]
  },
  {
   "cell_type": "code",
   "execution_count": null,
   "id": "1d194576",
   "metadata": {},
   "outputs": [],
   "source": []
  },
  {
   "cell_type": "code",
   "execution_count": null,
   "id": "9d89f55d",
   "metadata": {},
   "outputs": [],
   "source": []
  }
 ],
 "metadata": {
  "kernelspec": {
   "display_name": "Python 3 (ipykernel)",
   "language": "python",
   "name": "python3"
  },
  "language_info": {
   "codemirror_mode": {
    "name": "ipython",
    "version": 3
   },
   "file_extension": ".py",
   "mimetype": "text/x-python",
   "name": "python",
   "nbconvert_exporter": "python",
   "pygments_lexer": "ipython3",
   "version": "3.9.7"
  }
 },
 "nbformat": 4,
 "nbformat_minor": 5
}
