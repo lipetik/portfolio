{
 "cells": [
  {
   "cell_type": "code",
   "execution_count": 1,
   "id": "ca849523",
   "metadata": {},
   "outputs": [],
   "source": [
    "import numpy as np\n",
    "import matplotlib.pyplot as plt \n",
    "from funcoes import basis_sin,V,second_derivative\n",
    "from scipy import integrate\n",
    "import numpy.linalg as la\n",
    "from scipy.linalg import eigh_tridiagonal, eig\n",
    "%matplotlib inline"
   ]
  },
  {
   "cell_type": "code",
   "execution_count": 2,
   "id": "7cb9f2b2",
   "metadata": {},
   "outputs": [],
   "source": [
    "# Parâmetros do problema\n",
    "a = 0 # início do intervalo\n",
    "b = 1 # final do intervalo\n",
    "interval_number = 2000 # numero de divisoes do espaço\n",
    "\n",
    "# step (h) do intervalo de x \n",
    "\n",
    "h = (b-a)/interval_number"
   ]
  },
  {
   "cell_type": "code",
   "execution_count": 3,
   "id": "0e2e4af3",
   "metadata": {},
   "outputs": [],
   "source": [
    "# Arrays declarados\n",
    "x = np.linspace(a, b, interval_number,dtype=np.cdouble) # array com o intervalo\n",
    "n = np.linspace(1, 10, 10) # numero de bases\n",
    "# n = np.linspace(1, 2, 2) # numero de bases"
   ]
  },
  {
   "cell_type": "code",
   "execution_count": 4,
   "id": "ca1fbc05",
   "metadata": {},
   "outputs": [
    {
     "ename": "NameError",
     "evalue": "name 'psi' is not defined",
     "output_type": "error",
     "traceback": [
      "\u001b[0;31m---------------------------------------------------------------------------\u001b[0m",
      "\u001b[0;31mNameError\u001b[0m                                 Traceback (most recent call last)",
      "\u001b[0;32m/tmp/ipykernel_133485/1201040146.py\u001b[0m in \u001b[0;36m<module>\u001b[0;34m\u001b[0m\n\u001b[0;32m----> 1\u001b[0;31m \u001b[0mintegrate\u001b[0m\u001b[0;34m.\u001b[0m\u001b[0msimpson\u001b[0m\u001b[0;34m(\u001b[0m\u001b[0mnp\u001b[0m\u001b[0;34m.\u001b[0m\u001b[0mconjugate\u001b[0m\u001b[0;34m(\u001b[0m\u001b[0mpsi\u001b[0m\u001b[0;34m[\u001b[0m\u001b[0;36m3\u001b[0m\u001b[0;34m]\u001b[0m\u001b[0;34m)\u001b[0m \u001b[0;34m*\u001b[0m \u001b[0mpsi\u001b[0m\u001b[0;34m[\u001b[0m\u001b[0;36m3\u001b[0m\u001b[0;34m]\u001b[0m\u001b[0;34m,\u001b[0m \u001b[0mx\u001b[0m\u001b[0;34m)\u001b[0m\u001b[0;34m\u001b[0m\u001b[0;34m\u001b[0m\u001b[0m\n\u001b[0m\u001b[1;32m      2\u001b[0m \u001b[0;31m# integrate.simpson(psi[0] * psi[1], x)\u001b[0m\u001b[0;34m\u001b[0m\u001b[0;34m\u001b[0m\u001b[0m\n\u001b[1;32m      3\u001b[0m \u001b[0;31m# integrate.simpson(psi[0] * psi[9], x)\u001b[0m\u001b[0;34m\u001b[0m\u001b[0;34m\u001b[0m\u001b[0m\n",
      "\u001b[0;31mNameError\u001b[0m: name 'psi' is not defined"
     ]
    }
   ],
   "source": [
    "integrate.simpson(np.conjugate(psi[3]) * psi[3], x)\n",
    "# integrate.simpson(psi[0] * psi[1], x)\n",
    "# integrate.simpson(psi[0] * psi[9], x)\n"
   ]
  },
  {
   "cell_type": "code",
   "execution_count": 5,
   "id": "f7ba13e8",
   "metadata": {},
   "outputs": [
    {
     "ename": "TypeError",
     "evalue": "V() missing 2 required positional arguments: 'w' and 'a'",
     "output_type": "error",
     "traceback": [
      "\u001b[0;31m---------------------------------------------------------------------------\u001b[0m",
      "\u001b[0;31mTypeError\u001b[0m                                 Traceback (most recent call last)",
      "\u001b[0;32m/tmp/ipykernel_133485/3272106762.py\u001b[0m in \u001b[0;36m<module>\u001b[0;34m\u001b[0m\n\u001b[1;32m      1\u001b[0m \u001b[0mpsi\u001b[0m \u001b[0;34m=\u001b[0m \u001b[0mbasis_sin\u001b[0m\u001b[0;34m(\u001b[0m\u001b[0mx\u001b[0m\u001b[0;34m,\u001b[0m \u001b[0mn\u001b[0m\u001b[0;34m,\u001b[0m \u001b[0mb\u001b[0m\u001b[0;34m)\u001b[0m\u001b[0;34m\u001b[0m\u001b[0;34m\u001b[0m\u001b[0m\n\u001b[0;32m----> 2\u001b[0;31m \u001b[0mV_x\u001b[0m \u001b[0;34m=\u001b[0m \u001b[0mV\u001b[0m\u001b[0;34m(\u001b[0m\u001b[0mx\u001b[0m\u001b[0;34m)\u001b[0m\u001b[0;34m\u001b[0m\u001b[0;34m\u001b[0m\u001b[0m\n\u001b[0m\u001b[1;32m      3\u001b[0m \u001b[0mplt\u001b[0m\u001b[0;34m.\u001b[0m\u001b[0mplot\u001b[0m\u001b[0;34m(\u001b[0m\u001b[0mx\u001b[0m\u001b[0;34m,\u001b[0m\u001b[0mV_x\u001b[0m\u001b[0;34m)\u001b[0m\u001b[0;34m\u001b[0m\u001b[0;34m\u001b[0m\u001b[0m\n",
      "\u001b[0;31mTypeError\u001b[0m: V() missing 2 required positional arguments: 'w' and 'a'"
     ]
    }
   ],
   "source": [
    "psi = basis_sin(x, n, b)\n",
    "V_x = V(x)\n",
    "plt.plot(x,V_x)"
   ]
  },
  {
   "cell_type": "code",
   "execution_count": null,
   "id": "3e886e09",
   "metadata": {},
   "outputs": [],
   "source": [
    "# até aqui funciona para calcular os arrays\n",
    "psi_der_arr = [[] for _ in range(len(n))]\n",
    "for i in range(len(n)):\n",
    "    psi_der = second_derivative(psi[i], h)\n",
    "    psi_der_arr[i] = list(psi_der)"
   ]
  },
  {
   "cell_type": "code",
   "execution_count": null,
   "id": "4a8a0056",
   "metadata": {},
   "outputs": [],
   "source": []
  },
  {
   "cell_type": "code",
   "execution_count": null,
   "id": "f4a4d5f2",
   "metadata": {},
   "outputs": [],
   "source": [
    "for i in range(len(n)):\n",
    "    plt.plot(x, psi[i]**2)"
   ]
  },
  {
   "cell_type": "code",
   "execution_count": null,
   "id": "aec52791",
   "metadata": {},
   "outputs": [],
   "source": [
    "for i in range(len(n)):\n",
    "    plt.plot(x, psi_der_arr[i])"
   ]
  },
  {
   "cell_type": "code",
   "execution_count": null,
   "id": "052e7022",
   "metadata": {},
   "outputs": [],
   "source": [
    "psi_der_arr = np.asarray(psi_der_arr)"
   ]
  },
  {
   "cell_type": "code",
   "execution_count": null,
   "id": "5477c9d7",
   "metadata": {},
   "outputs": [],
   "source": [
    "shape = ( len(n), len(n), interval_number)\n",
    "# shape = (2,2)\n",
    "\n",
    "integrand_matrix = np.zeros(shape)\n",
    "#A, B = rand.random(size=shape)\n",
    "# print(integrand_matrix)\n",
    "# print(integrand_matrix[0])\n",
    "\n",
    "# print(integrand_matrix[0][1])"
   ]
  },
  {
   "cell_type": "code",
   "execution_count": null,
   "id": "8e77f0b3",
   "metadata": {},
   "outputs": [],
   "source": [
    "# Integando energia cinética\n",
    "# i,j --> n,m (referente a qual base psi_n usada)\n",
    "# k --> posicao de h\n",
    "# integrand_arr= [[] for _ in range(len(n) * len(n))]\n",
    "for i in range(len(n)):\n",
    "    for j in range(len(n)):\n",
    "        integrand_list = []\n",
    "        for k in range(interval_number):\n",
    "            integrand = (-0.5)  * np.conjugate(psi[j][k]) * psi_der_arr[i][k]\n",
    "            integrand_list.append(integrand)\n",
    "        integrand_matrix[i][j] = list(integrand_list)\n",
    "    # integrand_arr[i] = list(integrand_list)\n",
    "#print(integrand_list)"
   ]
  },
  {
   "cell_type": "code",
   "execution_count": null,
   "id": "9b4aac40",
   "metadata": {},
   "outputs": [],
   "source": [
    "len(integrand_matrix[0][1])"
   ]
  },
  {
   "cell_type": "code",
   "execution_count": null,
   "id": "579125f7",
   "metadata": {},
   "outputs": [],
   "source": [
    "plt.plot(x, integrand_matrix[0][1])\n",
    "plt.plot(x, integrand_matrix[0][2])\n",
    "plt.plot(x, integrand_matrix[0][3])\n",
    "plt.plot(x, integrand_matrix[0][4])"
   ]
  },
  {
   "cell_type": "code",
   "execution_count": null,
   "id": "4fecdc74",
   "metadata": {},
   "outputs": [],
   "source": [
    "integrate.simpson(integrand_matrix[0][9], x)"
   ]
  },
  {
   "cell_type": "code",
   "execution_count": null,
   "id": "ad63b803",
   "metadata": {},
   "outputs": [],
   "source": [
    "shape_Tmn = (len(n), len(n))\n",
    "print(len(n))\n",
    "T_mn = np.zeros(shape_Tmn)"
   ]
  },
  {
   "cell_type": "code",
   "execution_count": null,
   "id": "fb62395e",
   "metadata": {},
   "outputs": [],
   "source": [
    "T_mn[0][0]"
   ]
  },
  {
   "cell_type": "code",
   "execution_count": null,
   "id": "4f2878e0",
   "metadata": {},
   "outputs": [],
   "source": [
    "for i in range(len(n)):\n",
    "    for j in range(len(n)):\n",
    "        integral = integrate.simpson(integrand_matrix[i][j], x)\n",
    "        T_mn[i][j] = integral\n",
    "            "
   ]
  },
  {
   "cell_type": "code",
   "execution_count": null,
   "id": "9bab32ee",
   "metadata": {},
   "outputs": [],
   "source": [
    "T_mn[0][1]"
   ]
  },
  {
   "cell_type": "code",
   "execution_count": null,
   "id": "22ccd934",
   "metadata": {},
   "outputs": [],
   "source": [
    "e_vals, e_vecs = la.eig(T_mn)"
   ]
  },
  {
   "cell_type": "code",
   "execution_count": null,
   "id": "1a9c0ce4",
   "metadata": {},
   "outputs": [],
   "source": [
    "# integrando do potencial Vmn\n",
    "shape = ( len(n), len(n), interval_number)\n",
    "# shape = (2,2)\n",
    "\n",
    "integrand_potential_matrix = np.zeros(shape)\n",
    "for i in range(len(n)):\n",
    "    for j in range(len(n)):\n",
    "        integrand_list = []\n",
    "        for k in range(interval_number):\n",
    "            integrand = psi[i][k] * V_x[k] * psi[j][k]\n",
    "            integrand_list.append(integrand)\n",
    "        integrand_potential_matrix[i][j] = list(integrand_list)"
   ]
  },
  {
   "cell_type": "code",
   "execution_count": null,
   "id": "3a595218",
   "metadata": {},
   "outputs": [],
   "source": [
    "plt.plot(x,integrand_potential_matrix[0][0])"
   ]
  },
  {
   "cell_type": "code",
   "execution_count": null,
   "id": "ec0d4b18",
   "metadata": {},
   "outputs": [],
   "source": [
    "shape_Vmn = (len(n), len(n))\n",
    "print(len(n))\n",
    "V_mn = np.zeros(shape_Vmn)"
   ]
  },
  {
   "cell_type": "code",
   "execution_count": null,
   "id": "dfc2b801",
   "metadata": {},
   "outputs": [],
   "source": [
    "for i in range(len(n)):\n",
    "    for j in range(len(n)):\n",
    "        integral = integrate.simpson(integrand_potential_matrix[i][j], x)\n",
    "        V_mn[i][j] = integral"
   ]
  },
  {
   "cell_type": "code",
   "execution_count": null,
   "id": "87c02860",
   "metadata": {},
   "outputs": [],
   "source": [
    "shape_Hmn = (len(n), len(n))\n",
    "print(len(n))\n",
    "H_mn = np.zeros(shape_Hmn)"
   ]
  },
  {
   "cell_type": "code",
   "execution_count": null,
   "id": "993c0857",
   "metadata": {},
   "outputs": [],
   "source": []
  },
  {
   "cell_type": "code",
   "execution_count": null,
   "id": "68d7890a",
   "metadata": {},
   "outputs": [],
   "source": [
    "for i in range(len(n)):\n",
    "    for j in range(len(n)):\n",
    "        H_mn[i][j] = T_mn[i][j] + V_mn[i][j]\n"
   ]
  },
  {
   "cell_type": "code",
   "execution_count": null,
   "id": "29ab58f4",
   "metadata": {},
   "outputs": [],
   "source": [
    "# e_vals, e_vecs = la.eig(H_mn)\n",
    "e_vals, e_vecs = eig(H_mn)"
   ]
  },
  {
   "cell_type": "code",
   "execution_count": null,
   "id": "7e67c2a0",
   "metadata": {},
   "outputs": [],
   "source": [
    "e_vals.T"
   ]
  },
  {
   "cell_type": "code",
   "execution_count": null,
   "id": "92bd2ad6",
   "metadata": {},
   "outputs": [],
   "source": [
    "e_vecs[0].T"
   ]
  },
  {
   "cell_type": "code",
   "execution_count": null,
   "id": "3bc12a61",
   "metadata": {},
   "outputs": [],
   "source": [
    "for i in range(8):\n",
    "    # plt.plot(e_vecs[i].T)\n",
    "    plt.plot(e_vecs[i], label=\"n = \" + str(i))\n",
    "plt.legend()"
   ]
  },
  {
   "cell_type": "code",
   "execution_count": null,
   "id": "99a9dc40",
   "metadata": {},
   "outputs": [],
   "source": [
    "plt.bar(np.arange(0,10,1), e_vals[0:10])"
   ]
  },
  {
   "cell_type": "code",
   "execution_count": null,
   "id": "90cf2995",
   "metadata": {},
   "outputs": [],
   "source": [
    "psi_final = []\n",
    "psi_final = [[] for _ in range(len(n))]\n",
    "for i in range(len(e_vecs[0])):\n",
    "    psi_list = []\n",
    "    psi_final_element = e_vecs[0][i] * psi[i]\n",
    "    psi_list.append(psi_final_element)\n",
    "    psi_final[i]= list(psi_list)"
   ]
  },
  {
   "cell_type": "code",
   "execution_count": null,
   "id": "b854c15f",
   "metadata": {},
   "outputs": [],
   "source": [
    "psi_teste = []\n",
    "for i in range(9):\n",
    "    psi_teste_element = psi_final[i][0]\n",
    "    psi_teste.append(psi_teste_element)\n",
    "# psi_final[9][0].sum()"
   ]
  },
  {
   "cell_type": "code",
   "execution_count": null,
   "id": "b921a9de",
   "metadata": {},
   "outputs": [],
   "source": [
    "plt.plot(psi_teste[0] ** 2)\n",
    "plt.plot(psi_teste[1] ** 2)\n",
    "plt.plot(psi_teste[2] ** 2)\n",
    "plt.plot(psi_teste[3] ** 2)"
   ]
  },
  {
   "cell_type": "code",
   "execution_count": null,
   "id": "57e8754d",
   "metadata": {},
   "outputs": [],
   "source": [
    "e_vals"
   ]
  }
 ],
 "metadata": {
  "kernelspec": {
   "display_name": "Python 3 (ipykernel)",
   "language": "python",
   "name": "python3"
  },
  "language_info": {
   "codemirror_mode": {
    "name": "ipython",
    "version": 3
   },
   "file_extension": ".py",
   "mimetype": "text/x-python",
   "name": "python",
   "nbconvert_exporter": "python",
   "pygments_lexer": "ipython3",
   "version": "3.9.7"
  }
 },
 "nbformat": 4,
 "nbformat_minor": 5
}
