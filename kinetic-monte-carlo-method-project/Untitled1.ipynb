{
 "cells": [
  {
   "cell_type": "code",
   "execution_count": 1,
   "id": "f953bafc",
   "metadata": {},
   "outputs": [],
   "source": [
    "import numpy as np\n",
    "import matplotlib.pyplot as plt \n",
    "from scipy import integrate\n",
    "from scipy.linalg import eig\n",
    "import numpy.linalg as la\n",
    "from scipy.linalg import eigh_tridiagonal\n",
    "# Minhas funçoes\n",
    "# Potenciais\n",
    "from funcoes import kronig_penney_potential\n",
    "# Bases\n",
    "from funcoes import Plane_wave,bloch_periodic\n",
    "# Funcoes do algortimo\n",
    "from funcoes import second_derivative,Plane_wave, bloch_periodic,derivative_matrix\n",
    "from funcoes import integrand_matrix, matrix_Tmn, integrand_matrix_potential, matrix_Vmn , matrix_Hmn\n"
   ]
  },
  {
   "cell_type": "code",
   "execution_count": 2,
   "id": "2010ba2a",
   "metadata": {},
   "outputs": [],
   "source": [
    "# Parâmetros do problema\n",
    "a = 0 # início do intervalo\n",
    "b = 1 # final do intervalo\n",
    "interval_number = 2000 # numero de divisoes do espaço\n",
    "\n",
    "# step (h) do intervalo de x \n",
    "\n",
    "h = (b-a)/interval_number\n",
    "V_0 = 50"
   ]
  },
  {
   "cell_type": "code",
   "execution_count": 3,
   "id": "15390473",
   "metadata": {},
   "outputs": [],
   "source": [
    "# Arrays declarados\n",
    "# x = np.linspace(a, b, interval_number,dtype=np.cdouble)\n",
    "x = np.linspace(a, b, interval_number) # array com o intervalo\n",
    "n = np.linspace(1, 10, 10) # numero de bases\n",
    "K = np.linspace(-np.pi/b,np.pi/b,100)"
   ]
  },
  {
   "cell_type": "code",
   "execution_count": 4,
   "id": "6ee77d61",
   "metadata": {},
   "outputs": [
    {
     "name": "stdout",
     "output_type": "stream",
     "text": [
      "2000\n"
     ]
    }
   ],
   "source": [
    "V_x = kronig_penney_potential(x ,b,0.25 * b,V_0)\n",
    "psi = Plane_wave(x,n,b)\n",
    "# psi_bloch = bloch_periodic(x, K)\n",
    "print(len(V_x))"
   ]
  },
  {
   "cell_type": "code",
   "execution_count": 5,
   "id": "749f23fa",
   "metadata": {},
   "outputs": [
    {
     "name": "stderr",
     "output_type": "stream",
     "text": [
      "/home/filipe/Computational-Physics/projeto2/funcoes.py:98: ComplexWarning: Casting complex values to real discards the imaginary part\n",
      "  integrand_matrix[i][j] = list(integrand_list)\n",
      "/home/filipe/Computational-Physics/projeto2/funcoes.py:131: ComplexWarning: Casting complex values to real discards the imaginary part\n",
      "  integrand_potential_matrix[i][j] = list(integrand_list)\n"
     ]
    }
   ],
   "source": [
    "# psi = Plane_wave(x, n, b) # Cria a base\n",
    "# bloch = bloch_periodic(x, K) # Funcao de bloch\n",
    "psi_der = derivative_matrix(psi, n, h) # Calcula a derivada\n",
    "integrand_matrix = integrand_matrix(psi,psi_der,n,interval_number) # Calcula a matrix  do integrando T_mn\n",
    "T_mn = matrix_Tmn(integrand_matrix,x,n) # Calcula a matrix T_mn \n",
    "integrand_potential_matrix = integrand_matrix_potential(psi,V_x,n,interval_number) # Calcula a matrix  do integrando V_mn\n",
    "V_mn = matrix_Vmn(integrand_potential_matrix,x,n) # Calcula a matrix V_mn\n",
    "H_mn = matrix_Hmn(T_mn, V_mn,n)"
   ]
  },
  {
   "cell_type": "code",
   "execution_count": 6,
   "id": "3dd7df1e",
   "metadata": {},
   "outputs": [],
   "source": [
    "eig_values, eig_vecs = eig(H_mn)\n",
    "eig_values = sorted(eig_values)"
   ]
  },
  {
   "cell_type": "code",
   "execution_count": 10,
   "id": "d2b8a6d8",
   "metadata": {},
   "outputs": [
    {
     "name": "stderr",
     "output_type": "stream",
     "text": [
      "/usr/lib/python3.9/site-packages/numpy/core/_asarray.py:102: ComplexWarning: Casting complex values to real discards the imaginary part\n",
      "  return array(a, dtype, copy=False, order=order)\n"
     ]
    },
    {
     "data": {
      "text/plain": [
       "[<matplotlib.lines.Line2D at 0x7f735cffdb20>]"
      ]
     },
     "execution_count": 10,
     "metadata": {},
     "output_type": "execute_result"
    },
    {
     "data": {
      "image/png": "[encoded data removed]",
      "text/plain": [
       "<Figure size 432x288 with 1 Axes>"
      ]
     },
     "metadata": {
      "needs_background": "light"
     },
     "output_type": "display_data"
    }
   ],
   "source": [
    "plt.plot(eig_values)"
   ]
  },
  {
   "cell_type": "code",
   "execution_count": null,
   "id": "aae69e9a",
   "metadata": {},
   "outputs": [],
   "source": []
  }
 ],
 "metadata": {
  "kernelspec": {
   "display_name": "Python 3 (ipykernel)",
   "language": "python",
   "name": "python3"
  },
  "language_info": {
   "codemirror_mode": {
    "name": "ipython",
    "version": 3
   },
   "file_extension": ".py",
   "mimetype": "text/x-python",
   "name": "python",
   "nbconvert_exporter": "python",
   "pygments_lexer": "ipython3",
   "version": "3.9.7"
  }
 },
 "nbformat": 4,
 "nbformat_minor": 5
}
